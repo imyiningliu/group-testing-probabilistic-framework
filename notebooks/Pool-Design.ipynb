{
 "cells": [
  {
   "cell_type": "code",
   "execution_count": 1,
   "metadata": {
    "executionInfo": {
     "elapsed": 266,
     "status": "ok",
     "timestamp": 1606840631245,
     "user": {
      "displayName": "Yining Liu",
      "photoUrl": "https://lh3.googleusercontent.com/a-/AOh14Ggt8fF81vP6Gz2PEzgaiOml-euV8nGuTEmFlM2q=s64",
      "userId": "14775593711897454733"
     },
     "user_tz": 300
    },
    "id": "PdHiZAGg8fwN"
   },
   "outputs": [],
   "source": [
    "import sys\n",
    "sys.path.insert(1, '/content/drive/MyDrive/COVID-19-pooling') "
   ]
  },
  {
   "cell_type": "code",
   "execution_count": 2,
   "metadata": {
    "colab": {
     "base_uri": "https://localhost:8080/"
    },
    "executionInfo": {
     "elapsed": 3115,
     "status": "ok",
     "timestamp": 1606840634108,
     "user": {
      "displayName": "Yining Liu",
      "photoUrl": "https://lh3.googleusercontent.com/a-/AOh14Ggt8fF81vP6Gz2PEzgaiOml-euV8nGuTEmFlM2q=s64",
      "userId": "14775593711897454733"
     },
     "user_tz": 300
    },
    "id": "cIzDlKnTAZJL",
    "outputId": "2380c15a-882d-4906-d4a9-62dab26148af"
   },
   "outputs": [
    {
     "name": "stdout",
     "output_type": "stream",
     "text": [
      "Requirement already satisfied: mip in /usr/local/lib/python3.6/dist-packages (1.13.0)\n",
      "Requirement already satisfied: cffi in /usr/local/lib/python3.6/dist-packages (from mip) (1.14.3)\n",
      "Requirement already satisfied: pycparser in /usr/local/lib/python3.6/dist-packages (from cffi->mip) (2.20)\n"
     ]
    }
   ],
   "source": [
    "! pip install mip"
   ]
  },
  {
   "cell_type": "code",
   "execution_count": 3,
   "metadata": {
    "executionInfo": {
     "elapsed": 3102,
     "status": "ok",
     "timestamp": 1606840634110,
     "user": {
      "displayName": "Yining Liu",
      "photoUrl": "https://lh3.googleusercontent.com/a-/AOh14Ggt8fF81vP6Gz2PEzgaiOml-euV8nGuTEmFlM2q=s64",
      "userId": "14775593711897454733"
     },
     "user_tz": 300
    },
    "id": "r0s9PUBI8lxG"
   },
   "outputs": [],
   "source": [
    "from optimal_sizes import minT, optimal_pool_size, optimal_column_weight\n",
    "from util import simulate_x\n",
    "import matplotlib.pyplot as plt\n",
    "import numpy as np \n",
    "from membership_matrix import generate_doubly_regular_col\n",
    "from test import test_M"
   ]
  },
  {
   "cell_type": "markdown",
   "metadata": {
    "id": "0bNKKkwqzOMI"
   },
   "source": [
    "# Get Started\n",
    "This notebook shows how to generate a pool design. \n",
    "\n",
    "First, input the number of samples (n), population infection rate (f), false positive rate (fpr), and false negative rate (fnr). "
   ]
  },
  {
   "cell_type": "code",
   "execution_count": 4,
   "metadata": {
    "executionInfo": {
     "elapsed": 3097,
     "status": "ok",
     "timestamp": 1606840634111,
     "user": {
      "displayName": "Yining Liu",
      "photoUrl": "https://lh3.googleusercontent.com/a-/AOh14Ggt8fF81vP6Gz2PEzgaiOml-euV8nGuTEmFlM2q=s64",
      "userId": "14775593711897454733"
     },
     "user_tz": 300
    },
    "id": "nr92_S_M9Gq3"
   },
   "outputs": [],
   "source": [
    "# feel free to modify this cell \n",
    "\n",
    "n = 384 \n",
    "f = 9/384\n",
    "fpr = 0\n",
    "fnr = 0 "
   ]
  },
  {
   "cell_type": "markdown",
   "metadata": {
    "id": "YmDDAe8N0S7c"
   },
   "source": [
    "Let's simulate infection vectors. "
   ]
  },
  {
   "cell_type": "code",
   "execution_count": 5,
   "metadata": {
    "colab": {
     "base_uri": "https://localhost:8080/"
    },
    "executionInfo": {
     "elapsed": 4256,
     "status": "ok",
     "timestamp": 1606840635278,
     "user": {
      "displayName": "Yining Liu",
      "photoUrl": "https://lh3.googleusercontent.com/a-/AOh14Ggt8fF81vP6Gz2PEzgaiOml-euV8nGuTEmFlM2q=s64",
      "userId": "14775593711897454733"
     },
     "user_tz": 300
    },
    "id": "1W84wtmT0OFH",
    "outputId": "8db8680d-5e76-48ec-cd44-a71dba91f0c2"
   },
   "outputs": [
    {
     "name": "stdout",
     "output_type": "stream",
     "text": [
      "On average, 8.82 positives in each trail.\n"
     ]
    }
   ],
   "source": [
    "simulate_x(n, f)"
   ]
  },
  {
   "cell_type": "markdown",
   "metadata": {
    "id": "3uv7mtc29195"
   },
   "source": [
    "## Option 1: Fix number of pools, varying column weights. \n",
    "The first option is fixing the number of pools, and then find an optimal column weight for the membership matrix. \n",
    "\n",
    "The theoretical minimum number of pools can be computed using Shannon's source encoding theorem: \n"
   ]
  },
  {
   "cell_type": "code",
   "execution_count": 6,
   "metadata": {
    "colab": {
     "base_uri": "https://localhost:8080/"
    },
    "executionInfo": {
     "elapsed": 4242,
     "status": "ok",
     "timestamp": 1606840635279,
     "user": {
      "displayName": "Yining Liu",
      "photoUrl": "https://lh3.googleusercontent.com/a-/AOh14Ggt8fF81vP6Gz2PEzgaiOml-euV8nGuTEmFlM2q=s64",
      "userId": "14775593711897454733"
     },
     "user_tz": 300
    },
    "id": "QPd_KOki1Muq",
    "outputId": "bb523223-b47f-4269-c1d9-338ef2ae435d"
   },
   "outputs": [
    {
     "name": "stdout",
     "output_type": "stream",
     "text": [
      "For infection rate 2.34%, please use at least 62 pools.\n"
     ]
    }
   ],
   "source": [
    "print(\"For infection rate %.2f%%, please use at least %s pools.\" % (f * 100, minT(f, n))) "
   ]
  },
  {
   "cell_type": "markdown",
   "metadata": {
    "id": "CcbCeG3a2T5b"
   },
   "source": [
    "First, input the number of pools you would like to use. "
   ]
  },
  {
   "cell_type": "code",
   "execution_count": 7,
   "metadata": {
    "executionInfo": {
     "elapsed": 4230,
     "status": "ok",
     "timestamp": 1606840635280,
     "user": {
      "displayName": "Yining Liu",
      "photoUrl": "https://lh3.googleusercontent.com/a-/AOh14Ggt8fF81vP6Gz2PEzgaiOml-euV8nGuTEmFlM2q=s64",
      "userId": "14775593711897454733"
     },
     "user_tz": 300
    },
    "id": "4tZav7kl9gVv"
   },
   "outputs": [],
   "source": [
    "# feel free to modify this cell \n",
    "\n",
    "T = 65"
   ]
  },
  {
   "cell_type": "markdown",
   "metadata": {
    "id": "Y8DCZiA04G1T"
   },
   "source": [
    "The theoretical optimal column weight is computed based on f, fpr, fnr, T, and n. "
   ]
  },
  {
   "cell_type": "code",
   "execution_count": 8,
   "metadata": {
    "colab": {
     "base_uri": "https://localhost:8080/"
    },
    "executionInfo": {
     "elapsed": 4225,
     "status": "ok",
     "timestamp": 1606840635281,
     "user": {
      "displayName": "Yining Liu",
      "photoUrl": "https://lh3.googleusercontent.com/a-/AOh14Ggt8fF81vP6Gz2PEzgaiOml-euV8nGuTEmFlM2q=s64",
      "userId": "14775593711897454733"
     },
     "user_tz": 300
    },
    "id": "1r_VEnXh2--k",
    "outputId": "78d515da-cacf-441c-960d-be23168fa68b"
   },
   "outputs": [
    {
     "name": "stdout",
     "output_type": "stream",
     "text": [
      "In theory, the optimal column weight is 5.\n"
     ]
    }
   ],
   "source": [
    "print(\"In theory, the optimal column weight is %s.\" % (optimal_column_weight(f, fnr, fpr, T, n)))"
   ]
  },
  {
   "cell_type": "markdown",
   "metadata": {
    "id": "TfTT1Iv87K98"
   },
   "source": [
    "Now, input the range of column weights you would like to test: "
   ]
  },
  {
   "cell_type": "code",
   "execution_count": 9,
   "metadata": {
    "executionInfo": {
     "elapsed": 4215,
     "status": "ok",
     "timestamp": 1606840635283,
     "user": {
      "displayName": "Yining Liu",
      "photoUrl": "https://lh3.googleusercontent.com/a-/AOh14Ggt8fF81vP6Gz2PEzgaiOml-euV8nGuTEmFlM2q=s64",
      "userId": "14775593711897454733"
     },
     "user_tz": 300
    },
    "id": "NYifudPi-CEX"
   },
   "outputs": [],
   "source": [
    "# feel free to modify this cell \n",
    "\n",
    "column_weights = range(1, 11)"
   ]
  },
  {
   "cell_type": "markdown",
   "metadata": {
    "id": "oLF9CWc46Lsg"
   },
   "source": [
    "We will now test the optimal column weight. \n",
    "\n",
    "**Warning**: Please allow several hours for the following cell to run. "
   ]
  },
  {
   "cell_type": "code",
   "execution_count": 10,
   "metadata": {
    "colab": {
     "base_uri": "https://localhost:8080/"
    },
    "executionInfo": {
     "elapsed": 14045571,
     "status": "ok",
     "timestamp": 1606854676646,
     "user": {
      "displayName": "Yining Liu",
      "photoUrl": "https://lh3.googleusercontent.com/a-/AOh14Ggt8fF81vP6Gz2PEzgaiOml-euV8nGuTEmFlM2q=s64",
      "userId": "14775593711897454733"
     },
     "user_tz": 300
    },
    "id": "z3j-Tpn9-77P",
    "outputId": "f0010019-25e2-47ea-d641-adb1d6a526db"
   },
   "outputs": [
    {
     "name": "stdout",
     "output_type": "stream",
     "text": [
      "Column Weight: 1\n",
      "Starting trial 0\n",
      "Starting trial 100\n",
      "Starting trial 200\n",
      "Starting trial 300\n",
      "Starting trial 400\n",
      "Column Weight: 2\n",
      "Starting trial 0\n",
      "Starting trial 100\n",
      "Starting trial 200\n",
      "Starting trial 300\n",
      "Starting trial 400\n",
      "Column Weight: 3\n",
      "Starting trial 0\n",
      "Starting trial 100\n",
      "Starting trial 200\n",
      "Starting trial 300\n",
      "Starting trial 400\n",
      "Column Weight: 4\n",
      "Starting trial 0\n",
      "Starting trial 100\n",
      "Starting trial 200\n",
      "Starting trial 300\n",
      "Starting trial 400\n",
      "Column Weight: 5\n",
      "Starting trial 0\n",
      "Starting trial 100\n",
      "Starting trial 200\n",
      "Starting trial 300\n",
      "Starting trial 400\n",
      "Column Weight: 6\n",
      "Starting trial 0\n",
      "Starting trial 100\n",
      "Starting trial 200\n",
      "Starting trial 300\n",
      "Starting trial 400\n",
      "Column Weight: 7\n",
      "Starting trial 0\n",
      "Starting trial 100\n",
      "Starting trial 200\n",
      "Starting trial 300\n",
      "Starting trial 400\n",
      "Column Weight: 8\n",
      "Starting trial 0\n",
      "Starting trial 100\n",
      "Starting trial 200\n",
      "Starting trial 300\n",
      "Starting trial 400\n",
      "Column Weight: 9\n",
      "Starting trial 0\n",
      "Starting trial 100\n",
      "Starting trial 200\n",
      "Starting trial 300\n",
      "Starting trial 400\n",
      "Column Weight: 10\n",
      "Starting trial 0\n",
      "Starting trial 100\n",
      "Starting trial 200\n",
      "Starting trial 300\n",
      "Starting trial 400\n"
     ]
    }
   ],
   "source": [
    "results = []\n",
    "for column_weight in column_weights: \n",
    "  print(\"Column Weight: %s\" % column_weight)\n",
    "  M = generate_doubly_regular_col((T, n), column_weight)\n",
    "  results.append(test_M(M, f, fpr, fnr))"
   ]
  },
  {
   "cell_type": "code",
   "execution_count": 11,
   "metadata": {
    "colab": {
     "base_uri": "https://localhost:8080/"
    },
    "executionInfo": {
     "elapsed": 14045699,
     "status": "ok",
     "timestamp": 1606854676787,
     "user": {
      "displayName": "Yining Liu",
      "photoUrl": "https://lh3.googleusercontent.com/a-/AOh14Ggt8fF81vP6Gz2PEzgaiOml-euV8nGuTEmFlM2q=s64",
      "userId": "14775593711897454733"
     },
     "user_tz": 300
    },
    "id": "MzZnFhV942v8",
    "outputId": "e8af5ef8-2f60-42d5-8313-f7a8e16e3d03"
   },
   "outputs": [
    {
     "data": {
      "image/png": "[encoded data removed]",
      "text/plain": [
       "<Figure size 432x288 with 1 Axes>"
      ]
     },
     "metadata": {
      "needs_background": "light",
      "tags": []
     },
     "output_type": "display_data"
    },
    {
     "name": "stdout",
     "output_type": "stream",
     "text": [
      "Optimal Column Weight is 4, with average accuracy 98.77%\n",
      "====================================================================================================\n",
      "membership matrix is saved as 'membership-matrix.csv'.\n"
     ]
    }
   ],
   "source": [
    "average_accuracy = []\n",
    "upper = [] \n",
    "lower = [] \n",
    "for info in results:\n",
    "    num_errors = info[\"num_errors\"] \n",
    "    \n",
    "    average_errors = np.average(num_errors)\n",
    "    max_errors = np.max(num_errors)\n",
    "    min_errors = np.min(num_errors) \n",
    "    \n",
    "    average_accuracy.append(1 - average_errors / n)\n",
    "    lower.append((max_errors - average_errors) / n)\n",
    "    upper.append((average_errors - min_errors) / n) \n",
    "\n",
    "plt.errorbar(column_weights, average_accuracy, yerr=[lower, upper], capsize=3, fmt=\"r--o\", ecolor = \"black\")\n",
    "plt.title('f = %.2f %%, T = %s' % (f * 100, T))\n",
    "plt.xlabel('Column Weight')\n",
    "plt.ylabel('Accuracy')\n",
    "plt.show()\n",
    "\n",
    "optimal_index = average_accuracy.index(np.max(average_accuracy))\n",
    "optimal_weight = column_weights[optimal_index]\n",
    "optimal_avg_accuracy = average_accuracy[optimal_index]\n",
    "\n",
    "print(\"Optimal Column Weight is %s, with average accuracy %.2f%%\" % (optimal_weight, optimal_avg_accuracy * 100)) \n",
    "\n",
    "M = generate_doubly_regular_col((T, n), optimal_weight)\n",
    "np.savetxt('membership-matrix.csv', M, delimiter=',')\n",
    "print(\"=\" * 100)\n",
    "print(\"membership matrix is saved as 'membership-matrix.csv'.\" )"
   ]
  },
  {
   "cell_type": "markdown",
   "metadata": {
    "id": "WVsKZlfOHY70"
   },
   "source": [
    "## Option 2: Fix column weights, varying number of pools. \n",
    "The second option is fixing the column weight and vary the number of pools. \n",
    "\n",
    "First, specify the column weight, i.e. the number of times you would like to divide the samples into. "
   ]
  },
  {
   "cell_type": "code",
   "execution_count": 12,
   "metadata": {
    "executionInfo": {
     "elapsed": 14045700,
     "status": "ok",
     "timestamp": 1606854676792,
     "user": {
      "displayName": "Yining Liu",
      "photoUrl": "https://lh3.googleusercontent.com/a-/AOh14Ggt8fF81vP6Gz2PEzgaiOml-euV8nGuTEmFlM2q=s64",
      "userId": "14775593711897454733"
     },
     "user_tz": 300
    },
    "id": "j9RsTuDX6yrg"
   },
   "outputs": [],
   "source": [
    "# feel free to modify this cell \n",
    "\n",
    "column_weight = 6"
   ]
  },
  {
   "cell_type": "markdown",
   "metadata": {
    "id": "fQmAeyQf623J"
   },
   "source": [
    "The theoretical minimum number of pools can be computed using Shannon's source encoding theorem: "
   ]
  },
  {
   "cell_type": "code",
   "execution_count": 13,
   "metadata": {
    "colab": {
     "base_uri": "https://localhost:8080/"
    },
    "executionInfo": {
     "elapsed": 14045704,
     "status": "ok",
     "timestamp": 1606854676803,
     "user": {
      "displayName": "Yining Liu",
      "photoUrl": "https://lh3.googleusercontent.com/a-/AOh14Ggt8fF81vP6Gz2PEzgaiOml-euV8nGuTEmFlM2q=s64",
      "userId": "14775593711897454733"
     },
     "user_tz": 300
    },
    "id": "3uIcS3OGz2N7",
    "outputId": "08faeebf-8394-4238-eadb-e628eb8c58da"
   },
   "outputs": [
    {
     "name": "stdout",
     "output_type": "stream",
     "text": [
      "For infection rate 2.34%, please use at least 62 pools.\n"
     ]
    }
   ],
   "source": [
    "lowerbound = minT(f, n)\n",
    "print(\"For infection rate %.2f%%, please use at least %s pools.\" % (f * 100, lowerbound))"
   ]
  },
  {
   "cell_type": "markdown",
   "metadata": {
    "id": "LmlQxftq7RPy"
   },
   "source": [
    "Now, input the numbers of pools you would like to test: "
   ]
  },
  {
   "cell_type": "code",
   "execution_count": 14,
   "metadata": {
    "executionInfo": {
     "elapsed": 14045703,
     "status": "ok",
     "timestamp": 1606854676807,
     "user": {
      "displayName": "Yining Liu",
      "photoUrl": "https://lh3.googleusercontent.com/a-/AOh14Ggt8fF81vP6Gz2PEzgaiOml-euV8nGuTEmFlM2q=s64",
      "userId": "14775593711897454733"
     },
     "user_tz": 300
    },
    "id": "Un3m9zByDLmb"
   },
   "outputs": [],
   "source": [
    "# feel free to modify this cell\n",
    "\n",
    "Ts = list(range(lowerbound, 120, 4))"
   ]
  },
  {
   "cell_type": "code",
   "execution_count": 15,
   "metadata": {
    "colab": {
     "base_uri": "https://localhost:8080/"
    },
    "executionInfo": {
     "elapsed": 19150235,
     "status": "ok",
     "timestamp": 1606859781342,
     "user": {
      "displayName": "Yining Liu",
      "photoUrl": "https://lh3.googleusercontent.com/a-/AOh14Ggt8fF81vP6Gz2PEzgaiOml-euV8nGuTEmFlM2q=s64",
      "userId": "14775593711897454733"
     },
     "user_tz": 300
    },
    "id": "9AmDARZbH3N6",
    "outputId": "12d7cec0-ef86-47c8-e7a0-72d17cad1a0d"
   },
   "outputs": [
    {
     "name": "stdout",
     "output_type": "stream",
     "text": [
      "T: 62\n",
      "Starting trial 0\n",
      "Starting trial 100\n",
      "Starting trial 200\n",
      "Starting trial 300\n",
      "Starting trial 400\n",
      "T: 66\n",
      "Starting trial 0\n",
      "Starting trial 100\n",
      "Starting trial 200\n",
      "Starting trial 300\n",
      "Starting trial 400\n",
      "T: 70\n",
      "Starting trial 0\n",
      "Starting trial 100\n",
      "Starting trial 200\n",
      "Starting trial 300\n",
      "Starting trial 400\n",
      "T: 74\n",
      "Starting trial 0\n",
      "Starting trial 100\n",
      "Starting trial 200\n",
      "Starting trial 300\n",
      "Starting trial 400\n",
      "T: 78\n",
      "Starting trial 0\n",
      "Starting trial 100\n",
      "Starting trial 200\n",
      "Starting trial 300\n",
      "Starting trial 400\n",
      "T: 82\n",
      "Starting trial 0\n",
      "Starting trial 100\n",
      "Starting trial 200\n",
      "Starting trial 300\n",
      "Starting trial 400\n",
      "T: 86\n",
      "Starting trial 0\n",
      "Starting trial 100\n",
      "Starting trial 200\n",
      "Starting trial 300\n",
      "Starting trial 400\n",
      "T: 90\n",
      "Starting trial 0\n",
      "Starting trial 100\n",
      "Starting trial 200\n",
      "Starting trial 300\n",
      "Starting trial 400\n",
      "T: 94\n",
      "Starting trial 0\n",
      "Starting trial 100\n",
      "Starting trial 200\n",
      "Starting trial 300\n",
      "Starting trial 400\n",
      "T: 98\n",
      "Starting trial 0\n",
      "Starting trial 100\n",
      "Starting trial 200\n",
      "Starting trial 300\n",
      "Starting trial 400\n",
      "T: 102\n",
      "Starting trial 0\n",
      "Starting trial 100\n",
      "Starting trial 200\n",
      "Starting trial 300\n",
      "Starting trial 400\n",
      "T: 106\n",
      "Starting trial 0\n",
      "Starting trial 100\n",
      "Starting trial 200\n",
      "Starting trial 300\n",
      "Starting trial 400\n",
      "T: 110\n",
      "Starting trial 0\n",
      "Starting trial 100\n",
      "Starting trial 200\n",
      "Starting trial 300\n",
      "Starting trial 400\n",
      "T: 114\n",
      "Starting trial 0\n",
      "Starting trial 100\n",
      "Starting trial 200\n",
      "Starting trial 300\n",
      "Starting trial 400\n",
      "T: 118\n",
      "Starting trial 0\n",
      "Starting trial 100\n",
      "Starting trial 200\n",
      "Starting trial 300\n",
      "Starting trial 400\n"
     ]
    }
   ],
   "source": [
    "results = []\n",
    "for T in Ts: \n",
    "  print(\"T: %s\" % T)\n",
    "  M = generate_doubly_regular_col((T, n), column_weight)\n",
    "  results.append(test_M(M, f, fpr, fnr))"
   ]
  },
  {
   "cell_type": "code",
   "execution_count": 16,
   "metadata": {
    "colab": {
     "base_uri": "https://localhost:8080/"
    },
    "executionInfo": {
     "elapsed": 19150519,
     "status": "ok",
     "timestamp": 1606859781633,
     "user": {
      "displayName": "Yining Liu",
      "photoUrl": "https://lh3.googleusercontent.com/a-/AOh14Ggt8fF81vP6Gz2PEzgaiOml-euV8nGuTEmFlM2q=s64",
      "userId": "14775593711897454733"
     },
     "user_tz": 300
    },
    "id": "76V8h84lNrlM",
    "outputId": "a8262c03-3599-45d1-baaa-50673669cba5"
   },
   "outputs": [
    {
     "data": {
      "text/plain": [
       "Text(0, 0.5, 'Accuracy')"
      ]
     },
     "execution_count": 16,
     "metadata": {
      "tags": []
     },
     "output_type": "execute_result"
    },
    {
     "data": {
      "image/png": "[encoded data removed]",
      "text/plain": [
       "<Figure size 432x288 with 1 Axes>"
      ]
     },
     "metadata": {
      "needs_background": "light",
      "tags": []
     },
     "output_type": "display_data"
    }
   ],
   "source": [
    "accuracy = []\n",
    "upper = [] \n",
    "lower = [] \n",
    "for info in results:\n",
    "    num_errors = info[\"num_errors\"] \n",
    "    \n",
    "    average_errors = np.average(num_errors)\n",
    "    max_errors = np.max(num_errors)\n",
    "    min_errors = np.min(num_errors) \n",
    "    \n",
    "    accuracy.append(1 - average_errors / n)\n",
    "    lower.append((max_errors - average_errors) / n)\n",
    "    upper.append((average_errors - min_errors) / n) \n",
    "\n",
    "plt.errorbar(Ts, accuracy, yerr=[lower, upper], capsize=3, fmt=\"r--o\", ecolor = \"black\")\n",
    "plt.xlabel('Number of Pools')\n",
    "plt.ylabel('Accuracy')"
   ]
  },
  {
   "cell_type": "markdown",
   "metadata": {
    "id": "g_1BFF4y9l8v"
   },
   "source": [
    "Specify the number of pools you would like to use, and run the following cells to generate a membership matrix. "
   ]
  },
  {
   "cell_type": "code",
   "execution_count": 17,
   "metadata": {
    "colab": {
     "base_uri": "https://localhost:8080/"
    },
    "executionInfo": {
     "elapsed": 19151165,
     "status": "error",
     "timestamp": 1606859782286,
     "user": {
      "displayName": "Yining Liu",
      "photoUrl": "https://lh3.googleusercontent.com/a-/AOh14Ggt8fF81vP6Gz2PEzgaiOml-euV8nGuTEmFlM2q=s64",
      "userId": "14775593711897454733"
     },
     "user_tz": 300
    },
    "id": "lJjF6FLM9znS",
    "outputId": "90df974c-3428-471e-ddf4-0648353ccf7d"
   },
   "outputs": [
    {
     "ename": "SyntaxError",
     "evalue": "ignored",
     "output_type": "error",
     "traceback": [
      "\u001b[0;36m  File \u001b[0;32m\"<ipython-input-17-5000809e2219>\"\u001b[0;36m, line \u001b[0;32m3\u001b[0m\n\u001b[0;31m    T =\u001b[0m\n\u001b[0m        ^\u001b[0m\n\u001b[0;31mSyntaxError\u001b[0m\u001b[0;31m:\u001b[0m invalid syntax\n"
     ]
    }
   ],
   "source": [
    "# feel free to modify this cell \n",
    "\n",
    "T = "
   ]
  },
  {
   "cell_type": "code",
   "execution_count": null,
   "metadata": {
    "executionInfo": {
     "elapsed": 19150854,
     "status": "aborted",
     "timestamp": 1606859781980,
     "user": {
      "displayName": "Yining Liu",
      "photoUrl": "https://lh3.googleusercontent.com/a-/AOh14Ggt8fF81vP6Gz2PEzgaiOml-euV8nGuTEmFlM2q=s64",
      "userId": "14775593711897454733"
     },
     "user_tz": 300
    },
    "id": "ZmMpt18-B1Q6"
   },
   "outputs": [],
   "source": [
    "M = generate_doubly_regular_col((T, n), column_weight)\n",
    "np.savetxt('membership-matrix.csv', M, delimiter=',')\n",
    "print(\"membership matrix is saved as 'membership-matrix.csv'.\" )"
   ]
  }
 ],
 "metadata": {
  "colab": {
   "authorship_tag": "ABX9TyPhMU2Yrn7VB7gsFZ/J+z71",
   "collapsed_sections": [],
   "mount_file_id": "1e0CsFYwcCr-Mnq_ssKDkrW7VKluoHZhp",
   "name": "pool-design.ipynb",
   "provenance": [],
   "toc_visible": true
  },
  "kernelspec": {
   "display_name": "Python 3",
   "language": "python",
   "name": "python3"
  },
  "language_info": {
   "codemirror_mode": {
    "name": "ipython",
    "version": 3
   },
   "file_extension": ".py",
   "mimetype": "text/x-python",
   "name": "python",
   "nbconvert_exporter": "python",
   "pygments_lexer": "ipython3",
   "version": "3.8.3"
  }
 },
 "nbformat": 4,
 "nbformat_minor": 1
}
