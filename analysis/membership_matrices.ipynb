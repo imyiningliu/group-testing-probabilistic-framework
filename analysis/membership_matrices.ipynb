{
 "cells": [
  {
   "cell_type": "code",
   "execution_count": 1,
   "metadata": {},
   "outputs": [],
   "source": [
    "import sys\n",
    "COVID_dir = '/Users/yiningliu/research/pooled-sampling/COVID-19-pooling' # set this to your directory\n",
    "sys.path.insert(1, COVID_dir) "
   ]
  },
  {
   "cell_type": "code",
   "execution_count": 2,
   "metadata": {},
   "outputs": [],
   "source": [
    "import json\n",
    "import numpy as np\n",
    "from test import test_random_M\n",
    "from membership_matrix import generate_doubly_regular_col, generate_const_col_weight"
   ]
  },
  {
   "cell_type": "code",
   "execution_count": 3,
   "metadata": {},
   "outputs": [],
   "source": [
    "n = 384\n",
    "T = 48\n",
    "num_random_matrices = 25"
   ]
  },
  {
   "cell_type": "code",
   "execution_count": 4,
   "metadata": {},
   "outputs": [],
   "source": [
    "def get_best_worst(m, k, generate_matrix): \n",
    "    const_col_dir = COVID_dir + '/tests/results/' + generate_matrix + '/'\n",
    "    with open(const_col_dir + 'm%s-k%s-n%s-T%s-numM%s.txt' % (m, k, n, T, num_random_matrices)) as file:\n",
    "        data = json.load(file)\n",
    "    best = n\n",
    "    best_index = 0 \n",
    "    worst = 0\n",
    "    worst_index = 0 \n",
    "    for i in range(len(data)): \n",
    "        if data[i][\"num_errors\"] < best:\n",
    "            best = data[i][\"num_errors\"]\n",
    "            best_index = i\n",
    "        if data[i][\"num_errors\"] > worst:\n",
    "            worst = data[i][\"num_errors\"]\n",
    "            worst_index = i\n",
    "    return data, best_index, worst_index\n",
    "\n",
    "def get_counts(M):\n",
    "    inner_prod = M.T @ M\n",
    "    unique, counts = np.unique(inner_prod, return_counts=True) \n",
    "    return dict(zip(unique, counts)) \n",
    "\n",
    "def print_inner_product_counts(data, best_index, worst_index):\n",
    "    M_best = np.array(data[best_index][\"membership_matrix\"])\n",
    "    print(\"good: %s\" % get_counts(M_best))\n",
    "    \n",
    "    M_bad = np.array(data[worst_index][\"membership_matrix\"])\n",
    "    print(\"bad: %s\" % get_counts(M_bad))"
   ]
  },
  {
   "cell_type": "code",
   "execution_count": 5,
   "metadata": {},
   "outputs": [],
   "source": [
    "m = 7\n",
    "k = 1\n",
    "data, best_index, worst_index = get_best_worst(m, k, 'generate_doubly_regular_col')"
   ]
  },
  {
   "cell_type": "code",
   "execution_count": 12,
   "metadata": {},
   "outputs": [
    {
     "name": "stdout",
     "output_type": "stream",
     "text": [
      "0\n",
      "0\n",
      "0\n",
      "0\n",
      "0\n",
      "0\n",
      "0\n",
      "0\n",
      "0\n",
      "0\n",
      "0\n",
      "0\n",
      "0\n",
      "0\n",
      "0\n",
      "0\n",
      "0\n",
      "0\n",
      "0\n",
      "0\n",
      "0\n",
      "0\n",
      "0\n",
      "0\n",
      "0\n"
     ]
    }
   ],
   "source": [
    "for info in data:\n",
    "    print(info[\"num_errors\"])"
   ]
  },
  {
   "cell_type": "code",
   "execution_count": 60,
   "metadata": {},
   "outputs": [],
   "source": [
    "k = 2\n",
    "m = 6\n",
    "data, best_index, worst_index = get_best_worst(m, k, 'generate_doubly_regular_col')"
   ]
  },
  {
   "cell_type": "code",
   "execution_count": 42,
   "metadata": {},
   "outputs": [
    {
     "name": "stdout",
     "output_type": "stream",
     "text": [
      "good: {0.0: 64122, 1.0: 60518, 2.0: 19698, 3.0: 2566, 4.0: 164, 5.0: 4, 6.0: 384}\n",
      "110592.0\n",
      "average correlation: 0.3681462140992167\n",
      "bad: {0.0: 64040, 1.0: 60782, 2.0: 19410, 3.0: 2678, 4.0: 158, 5.0: 4, 6.0: 384}\n",
      "110592.0\n",
      "average correlation: 0.3681462140992167\n"
     ]
    }
   ],
   "source": [
    "print_inner_product_counts(data, best_index, worst_index)"
   ]
  },
  {
   "cell_type": "code",
   "execution_count": 70,
   "metadata": {},
   "outputs": [
    {
     "name": "stdout",
     "output_type": "stream",
     "text": [
      "good: {0.0: 103780, 1.0: 39086, 2.0: 4088, 3.0: 118, 4.0: 384}\n",
      "49152.0\n",
      "average correlation: 0.1618798955613577\n",
      "bad: {0.0: 103788, 1.0: 39066, 2.0: 4104, 3.0: 114, 4.0: 384}\n",
      "49152.0\n",
      "average correlation: 0.1618798955613577\n"
     ]
    }
   ],
   "source": [
    "k = 3\n",
    "m = 4\n",
    "print_inner_product_counts(*get_best_worst(m, k, 'generate_doubly_regular_col'))"
   ]
  },
  {
   "cell_type": "code",
   "execution_count": 71,
   "metadata": {},
   "outputs": [
    {
     "name": "stdout",
     "output_type": "stream",
     "text": [
      "good: {0.0: 84016, 1.0: 52016, 2.0: 10286, 3.0: 724, 4.0: 30, 5.0: 384}\n",
      "76800.0\n",
      "average correlation: 0.2545691906005222\n",
      "bad: {0.0: 83908, 1.0: 52188, 2.0: 10246, 3.0: 720, 4.0: 10, 5.0: 384}\n",
      "76800.0\n",
      "average correlation: 0.2545691906005222\n"
     ]
    }
   ],
   "source": [
    "k = 4\n",
    "m = 5\n",
    "print_inner_product_counts(*get_best_worst(m, k, 'generate_doubly_regular_col'))"
   ]
  },
  {
   "cell_type": "markdown",
   "metadata": {},
   "source": [
    "# Block Matrices for column weight = 6"
   ]
  },
  {
   "cell_type": "code",
   "execution_count": 9,
   "metadata": {},
   "outputs": [],
   "source": [
    "import random\n",
    "def get_block_matrix(shape = (48, 384), m = 6): \n",
    "    \"\"\"ONLY FOR SHAPE = (48, 384) and m = 6\"\"\"\n",
    "    M = np.zeros((48, 384))\n",
    "    samples = list(range(384))\n",
    "    horizontal = int(384 / 8)\n",
    "    for block in range(0, 6): \n",
    "        for i in range(0, 8): \n",
    "            M[i + block * 8][samples[horizontal * i:horizontal * (i + 1)]] = 1\n",
    "        random.shuffle(samples)\n",
    "    return M"
   ]
  },
  {
   "cell_type": "code",
   "execution_count": 14,
   "metadata": {},
   "outputs": [],
   "source": [
    "def get_num_errors(k, generate_matrix): \n",
    "    block_matrix_dir = COVID_dir + '/tests/results/' + generate_matrix + '/'\n",
    "    with open(block_matrix_dir + 'm6-k%s-n384-T48-numM25.txt' % k) as file: \n",
    "        data = json.load(file)\n",
    "    num_errors = []\n",
    "    for info in data:\n",
    "        num_errors.append(info[\"num_errors\"])\n",
    "    return num_errors "
   ]
  },
  {
   "cell_type": "code",
   "execution_count": 15,
   "metadata": {},
   "outputs": [
    {
     "name": "stdout",
     "output_type": "stream",
     "text": [
      "k = 1: \n",
      " avg num errors for block = 0.36 \n",
      " avg num errors for doubly regular = 0.16 \n",
      " \n",
      "k = 2: \n",
      " avg num errors for block = 5.24 \n",
      " avg num errors for doubly regular = 2.64 \n",
      " \n",
      "k = 3: \n",
      " avg num errors for block = 49.12 \n",
      " avg num errors for doubly regular = 47.12 \n",
      " \n",
      "k = 4: \n",
      " avg num errors for block = 172.32 \n",
      " avg num errors for doubly regular = 150.16 \n",
      " \n",
      "k = 5: \n",
      " avg num errors for block = 298.08 \n",
      " avg num errors for doubly regular = 261.28 \n",
      " \n"
     ]
    }
   ],
   "source": [
    "for k in range(1, 6): \n",
    "    num_errors_block = sum(get_num_errors(k, 'get_block_matrix'))/num_random_matrices\n",
    "    num_errors_dr = sum(get_num_errors(k, 'generate_doubly_regular_col'))/num_random_matrices\n",
    "    print(\"k = %s: \\n avg num errors for block = %s \\n avg num errors for doubly regular = %s \\n \" % (k, num_errors_block, num_errors_dr))"
   ]
  },
  {
   "cell_type": "markdown",
   "metadata": {},
   "source": [
    "### Even if we are not optimizing for the column row weight, dr can have better performance than shental"
   ]
  },
  {
   "cell_type": "code",
   "execution_count": 18,
   "metadata": {},
   "outputs": [],
   "source": [
    "num_errors_dr = []\n",
    "for k in range(1, 6): \n",
    "    num_errors_dr.append(min(get_num_errors(k, 'generate_doubly_regular_col')))"
   ]
  },
  {
   "cell_type": "code",
   "execution_count": 19,
   "metadata": {},
   "outputs": [
    {
     "data": {
      "text/plain": [
       "{1: 0, 2: 0, 3: 30, 4: 120, 5: 227}"
      ]
     },
     "execution_count": 19,
     "metadata": {},
     "output_type": "execute_result"
    }
   ],
   "source": [
    "dict(zip(list(range(1, 6)), num_errors_dr))"
   ]
  },
  {
   "cell_type": "code",
   "execution_count": 20,
   "metadata": {},
   "outputs": [],
   "source": [
    "shental = {1: 0, 2: 1, 3: 49, 4: 163, 5: 267} "
   ]
  },
  {
   "cell_type": "code",
   "execution_count": 21,
   "metadata": {},
   "outputs": [
    {
     "data": {
      "text/plain": [
       "{1: 0, 2: 1, 3: 49, 4: 163, 5: 267}"
      ]
     },
     "execution_count": 21,
     "metadata": {},
     "output_type": "execute_result"
    }
   ],
   "source": [
    "shental"
   ]
  }
 ],
 "metadata": {
  "kernelspec": {
   "display_name": "Python 3",
   "language": "python",
   "name": "python3"
  },
  "language_info": {
   "codemirror_mode": {
    "name": "ipython",
    "version": 3
   },
   "file_extension": ".py",
   "mimetype": "text/x-python",
   "name": "python",
   "nbconvert_exporter": "python",
   "pygments_lexer": "ipython3",
   "version": "3.8.3"
  }
 },
 "nbformat": 4,
 "nbformat_minor": 4
}
