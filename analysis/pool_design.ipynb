{
  "nbformat": 4,
  "nbformat_minor": 0,
  "metadata": {
    "colab": {
      "name": "pool-design.ipynb",
      "provenance": [],
      "collapsed_sections": [],
      "toc_visible": true
    },
    "kernelspec": {
      "name": "python3",
      "display_name": "Python 3"
    }
  },
  "cells": [
    {
      "cell_type": "code",
      "metadata": {
        "id": "PdHiZAGg8fwN"
      },
      "source": [
        "import sys\n",
        "sys.path.insert(1, '/content/drive/MyDrive/COVID-19-pooling') "
      ],
      "execution_count": 1,
      "outputs": []
    },
    {
      "cell_type": "code",
      "metadata": {
        "colab": {
          "base_uri": "https://localhost:8080/"
        },
        "id": "cIzDlKnTAZJL",
        "outputId": "174075b3-d5a6-480c-e9b0-bd90725cb575"
      },
      "source": [
        "! pip install mip"
      ],
      "execution_count": 2,
      "outputs": [
        {
          "output_type": "stream",
          "text": [
            "Collecting mip\n",
            "\u001b[?25l  Downloading https://files.pythonhosted.org/packages/e5/7c/615a417b8b74dde4c3573f09c79612e3e0ed8c9b9488daf67e86cde350d2/mip-1.13.0-py3-none-any.whl (48.0MB)\n",
            "\u001b[K     |████████████████████████████████| 48.0MB 100kB/s \n",
            "\u001b[?25hRequirement already satisfied: cffi in /usr/local/lib/python3.6/dist-packages (from mip) (1.14.3)\n",
            "Requirement already satisfied: pycparser in /usr/local/lib/python3.6/dist-packages (from cffi->mip) (2.20)\n",
            "Installing collected packages: mip\n",
            "Successfully installed mip-1.13.0\n"
          ],
          "name": "stdout"
        }
      ]
    },
    {
      "cell_type": "code",
      "metadata": {
        "id": "r0s9PUBI8lxG"
      },
      "source": [
        "from optimal_sizes import minT, optimal_pool_size, optimal_column_weight\n",
        "from util import simulate_x\n",
        "import matplotlib.pyplot as plt\n",
        "import numpy as np \n",
        "from membership_matrix import generate_doubly_regular_col\n",
        "from test import test_M"
      ],
      "execution_count": 3,
      "outputs": []
    },
    {
      "cell_type": "markdown",
      "metadata": {
        "id": "0bNKKkwqzOMI"
      },
      "source": [
        "# Get Started\n",
        "This notebook shows how to generate a pool design. \n",
        "\n",
        "First, input the number of samples (n), population infection rate (f), false positive rate (fpr), and false negative rate (fnr). "
      ]
    },
    {
      "cell_type": "code",
      "metadata": {
        "id": "nr92_S_M9Gq3"
      },
      "source": [
        "# feel free to modify this cell \n",
        "\n",
        "n = 384 \n",
        "f = 9/384\n",
        "fpr = 0\n",
        "fnr = 0 "
      ],
      "execution_count": 4,
      "outputs": []
    },
    {
      "cell_type": "markdown",
      "metadata": {
        "id": "YmDDAe8N0S7c"
      },
      "source": [
        "Let's simulate infection vectors. "
      ]
    },
    {
      "cell_type": "code",
      "metadata": {
        "colab": {
          "base_uri": "https://localhost:8080/"
        },
        "id": "1W84wtmT0OFH",
        "outputId": "c21844a5-9dae-4aec-95e6-56cbc2f8a54b"
      },
      "source": [
        "simulate_x(n, f)"
      ],
      "execution_count": 5,
      "outputs": [
        {
          "output_type": "stream",
          "text": [
            "On average, 8.96 positives in each trail.\n"
          ],
          "name": "stdout"
        }
      ]
    },
    {
      "cell_type": "markdown",
      "metadata": {
        "id": "3uv7mtc29195"
      },
      "source": [
        "## Option 1: Fix number of pools, varying column weights. \n",
        "The first option is fixing the number of pools, and then find an optimal column weight for the membership matrix. \n",
        "\n",
        "The theoretical minimum number of pools can be computed using Shannon's source encoding theorem: \n"
      ]
    },
    {
      "cell_type": "code",
      "metadata": {
        "colab": {
          "base_uri": "https://localhost:8080/"
        },
        "id": "QPd_KOki1Muq",
        "outputId": "6d4a29df-3fbd-4eb1-94a5-5965a58a780d"
      },
      "source": [
        "print(\"For infection rate %.2f%%, please use at least %s pools.\" % (f * 100, minT(f, n))) "
      ],
      "execution_count": 6,
      "outputs": [
        {
          "output_type": "stream",
          "text": [
            "For infection rate 2.34%, please use at least 62 pools.\n"
          ],
          "name": "stdout"
        }
      ]
    },
    {
      "cell_type": "markdown",
      "metadata": {
        "id": "CcbCeG3a2T5b"
      },
      "source": [
        "First, input the number of pools you would like to use. "
      ]
    },
    {
      "cell_type": "code",
      "metadata": {
        "id": "4tZav7kl9gVv"
      },
      "source": [
        "# feel free to modify this cell \n",
        "\n",
        "T = 65"
      ],
      "execution_count": 7,
      "outputs": []
    },
    {
      "cell_type": "markdown",
      "metadata": {
        "id": "Y8DCZiA04G1T"
      },
      "source": [
        "The theoretical optimal column weight is computed based on f, fpr, fnr, T, and n. "
      ]
    },
    {
      "cell_type": "code",
      "metadata": {
        "colab": {
          "base_uri": "https://localhost:8080/"
        },
        "id": "1r_VEnXh2--k",
        "outputId": "875bcf04-11d0-421e-a95f-2ba28fedc8ac"
      },
      "source": [
        "print(\"In theory, the optimal column weight is %s.\" % (optimal_column_weight(f, fnr, fpr, T, n)))"
      ],
      "execution_count": 8,
      "outputs": [
        {
          "output_type": "stream",
          "text": [
            "In theory, the optimal column weight is 5.\n"
          ],
          "name": "stdout"
        }
      ]
    },
    {
      "cell_type": "markdown",
      "metadata": {
        "id": "TfTT1Iv87K98"
      },
      "source": [
        "Now, input the range of column weights you would like to test: "
      ]
    },
    {
      "cell_type": "code",
      "metadata": {
        "id": "NYifudPi-CEX"
      },
      "source": [
        "# feel free to modify this cell \n",
        "\n",
        "column_weights = range(1, 11)"
      ],
      "execution_count": 9,
      "outputs": []
    },
    {
      "cell_type": "markdown",
      "metadata": {
        "id": "oLF9CWc46Lsg"
      },
      "source": [
        "We will now test the optimal column weight. \n",
        "\n",
        "**Warning**: It takes several hours for the following cell to run. "
      ]
    },
    {
      "cell_type": "code",
      "metadata": {
        "id": "z3j-Tpn9-77P",
        "colab": {
          "base_uri": "https://localhost:8080/"
        },
        "outputId": "25f964a4-a386-4048-a33e-04a92fd28952"
      },
      "source": [
        "results = []\n",
        "for column_weight in column_weights: \n",
        "  print(\"Column Weight: %s\" % column_weight)\n",
        "  M = generate_doubly_regular_col((T, n), column_weight)\n",
        "  results.append(test_M(M, f, fpr, fnr))"
      ],
      "execution_count": 10,
      "outputs": [
        {
          "output_type": "stream",
          "text": [
            "Column Weight: 1\n",
            "Finished trial 100\n",
            "Finished trial 200\n",
            "Finished trial 300\n",
            "Finished trial 400\n",
            "Finished trial 500\n",
            "Finished trial 600\n",
            "Finished trial 700\n",
            "Finished trial 800\n",
            "Finished trial 900\n",
            "Finished trial 1000\n",
            "Column Weight: 2\n",
            "Finished trial 100\n",
            "Finished trial 200\n",
            "Finished trial 300\n",
            "Finished trial 400\n",
            "Finished trial 500\n",
            "Finished trial 600\n",
            "Finished trial 700\n",
            "Finished trial 800\n",
            "Finished trial 900\n",
            "Finished trial 1000\n",
            "Column Weight: 3\n",
            "Finished trial 100\n",
            "Finished trial 200\n",
            "Finished trial 300\n",
            "Finished trial 400\n",
            "Finished trial 500\n",
            "Finished trial 600\n",
            "Finished trial 700\n",
            "Finished trial 800\n",
            "Finished trial 900\n",
            "Finished trial 1000\n",
            "Column Weight: 4\n",
            "Finished trial 100\n",
            "Finished trial 200\n",
            "Finished trial 300\n",
            "Finished trial 400\n",
            "Finished trial 500\n",
            "Finished trial 600\n",
            "Finished trial 700\n",
            "Finished trial 800\n",
            "Finished trial 900\n",
            "Finished trial 1000\n",
            "Column Weight: 5\n",
            "Finished trial 100\n",
            "Finished trial 200\n",
            "Finished trial 300\n",
            "Finished trial 400\n",
            "Finished trial 500\n",
            "Finished trial 600\n",
            "Finished trial 700\n",
            "Finished trial 800\n",
            "Finished trial 900\n",
            "Finished trial 1000\n",
            "Column Weight: 6\n",
            "Finished trial 100\n",
            "Finished trial 200\n",
            "Finished trial 300\n",
            "Finished trial 400\n",
            "Finished trial 500\n",
            "Finished trial 600\n",
            "Finished trial 700\n",
            "Finished trial 800\n",
            "Finished trial 900\n",
            "Finished trial 1000\n",
            "Column Weight: 7\n",
            "Finished trial 100\n",
            "Finished trial 200\n",
            "Finished trial 300\n",
            "Finished trial 400\n",
            "Finished trial 500\n",
            "Finished trial 600\n",
            "Finished trial 700\n",
            "Finished trial 800\n",
            "Finished trial 900\n",
            "Finished trial 1000\n",
            "Column Weight: 8\n",
            "Finished trial 100\n",
            "Finished trial 200\n",
            "Finished trial 300\n",
            "Finished trial 400\n",
            "Finished trial 500\n",
            "Finished trial 600\n",
            "Finished trial 700\n",
            "Finished trial 800\n",
            "Finished trial 900\n",
            "Finished trial 1000\n",
            "Column Weight: 9\n",
            "Finished trial 100\n",
            "Finished trial 200\n",
            "Finished trial 300\n",
            "Finished trial 400\n",
            "Finished trial 500\n",
            "Finished trial 600\n",
            "Finished trial 700\n",
            "Finished trial 800\n",
            "Finished trial 900\n",
            "Finished trial 1000\n",
            "Column Weight: 10\n",
            "Finished trial 100\n",
            "Finished trial 200\n",
            "Finished trial 300\n",
            "Finished trial 400\n",
            "Finished trial 500\n",
            "Finished trial 600\n",
            "Finished trial 700\n",
            "Finished trial 800\n",
            "Finished trial 900\n",
            "Finished trial 1000\n"
          ],
          "name": "stdout"
        }
      ]
    },
    {
      "cell_type": "code",
      "metadata": {
        "colab": {
          "base_uri": "https://localhost:8080/",
          "height": 346
        },
        "id": "MzZnFhV942v8",
        "outputId": "9eec53a9-9adf-467b-a76b-33c10d10e483"
      },
      "source": [
        "average_accuracy = []\n",
        "upper = [] \n",
        "lower = [] \n",
        "for info in results:\n",
        "    num_errors = info[\"num_errors\"] \n",
        "    \n",
        "    average_errors = np.average(num_errors)\n",
        "    max_errors = np.max(num_errors)\n",
        "    min_errors = np.min(num_errors) \n",
        "    \n",
        "    average_accuracy.append(1 - average_errors / n)\n",
        "    lower.append((max_errors - average_errors) / n)\n",
        "    upper.append((average_errors - min_errors) / n) \n",
        "\n",
        "plt.errorbar(column_weights, average_accuracy, yerr=[lower, upper], capsize=3, fmt=\"r--o\", ecolor = \"black\")\n",
        "plt.title('f = %.2f %%, T = %s' % (f * 100, T))\n",
        "plt.xlabel('Column Weight')\n",
        "plt.ylabel('Accuracy')\n",
        "plt.show()\n",
        "\n",
        "optimal_index = average_accuracy.index(np.max(average_accuracy))\n",
        "optimal_weight = column_weights[optimal_index]\n",
        "optimal_avg_accuracy = average_accuracy[optimal_index]\n",
        "\n",
        "print(\"Optimal Column Weight is %s, with average accuracy %.2f%%\" % (optimal_weight, optimal_avg_accuracy * 100)) \n",
        "\n",
        "M = generate_doubly_regular_col((T, n), optimal_weight)\n",
        "np.savetxt('membership-matrix.csv', M, delimiter=',')\n",
        "print(\"=\" * 100)\n",
        "print(\"membership matrix is saved as 'membership-matrix.csv'.\" )"
      ],
      "execution_count": 11,
      "outputs": [
        {
          "output_type": "display_data",
          "data": {
            "image/png": "[encoded data removed]",
            "text/plain": [
              "<Figure size 432x288 with 1 Axes>"
            ]
          },
          "metadata": {
            "tags": [],
            "needs_background": "light"
          }
        },
        {
          "output_type": "stream",
          "text": [
            "Optimal Column Weight is 4, with average accuracy 98.70%\n",
            "====================================================================================================\n",
            "membership matrix is saved as 'membership-matrix.csv'.\n"
          ],
          "name": "stdout"
        }
      ]
    },
    {
      "cell_type": "markdown",
      "metadata": {
        "id": "WVsKZlfOHY70"
      },
      "source": [
        "## Option 2: Fix column weights, varying number of pools. \n",
        "The second option is fixing the column weight and vary the number of pools. \n",
        "\n",
        "First, specify the column weight, i.e. the number of times you would like to divide the samples into. "
      ]
    },
    {
      "cell_type": "code",
      "metadata": {
        "id": "j9RsTuDX6yrg"
      },
      "source": [
        "# feel free to modify this cell \n",
        "\n",
        "column_weight = 6"
      ],
      "execution_count": 6,
      "outputs": []
    },
    {
      "cell_type": "markdown",
      "metadata": {
        "id": "fQmAeyQf623J"
      },
      "source": [
        "The theoretical minimum number of pools can be computed using Shannon's source encoding theorem: "
      ]
    },
    {
      "cell_type": "code",
      "metadata": {
        "colab": {
          "base_uri": "https://localhost:8080/"
        },
        "id": "3uIcS3OGz2N7",
        "outputId": "b5f7c2a1-4332-43d7-cab0-72800d265e1a"
      },
      "source": [
        "lowerbound = minT(f, n)\n",
        "print(\"For infection rate %.2f%%, please use at least %s pools.\" % (f * 100, lowerbound))"
      ],
      "execution_count": 7,
      "outputs": [
        {
          "output_type": "stream",
          "text": [
            "For infection rate 2.34%, please use at least 62 pools.\n"
          ],
          "name": "stdout"
        }
      ]
    },
    {
      "cell_type": "markdown",
      "metadata": {
        "id": "LmlQxftq7RPy"
      },
      "source": [
        "Now, input the numbers of pools you would like to test: "
      ]
    },
    {
      "cell_type": "code",
      "metadata": {
        "id": "Un3m9zByDLmb"
      },
      "source": [
        "# feel free to modify this cell\n",
        "\n",
        "Ts = list(range(lowerbound, 120, 4))"
      ],
      "execution_count": 8,
      "outputs": []
    },
    {
      "cell_type": "code",
      "metadata": {
        "colab": {
          "base_uri": "https://localhost:8080/"
        },
        "id": "9AmDARZbH3N6",
        "outputId": "fa766f9b-a4d8-416e-e7d6-6f710d0ac160"
      },
      "source": [
        "results = []\n",
        "for T in Ts: \n",
        "  print(\"T: %s\" % T)\n",
        "  M = generate_doubly_regular_col((T, n), column_weight)\n",
        "  results.append(test_M(M, f, fpr, fnr))"
      ],
      "execution_count": 9,
      "outputs": [
        {
          "output_type": "stream",
          "text": [
            "T: 62\n",
            "Finished trial 100\n",
            "Finished trial 200\n",
            "Finished trial 300\n",
            "Finished trial 400\n",
            "Finished trial 500\n",
            "Finished trial 600\n",
            "Finished trial 700\n",
            "Finished trial 800\n",
            "Finished trial 900\n",
            "Finished trial 1000\n",
            "T: 66\n",
            "Finished trial 100\n",
            "Finished trial 200\n",
            "Finished trial 300\n",
            "Finished trial 400\n",
            "Finished trial 500\n",
            "Finished trial 600\n",
            "Finished trial 700\n",
            "Finished trial 800\n",
            "Finished trial 900\n",
            "Finished trial 1000\n",
            "T: 70\n",
            "Finished trial 100\n",
            "Finished trial 200\n",
            "Finished trial 300\n",
            "Finished trial 400\n",
            "Finished trial 500\n",
            "Finished trial 600\n",
            "Finished trial 700\n",
            "Finished trial 800\n",
            "Finished trial 900\n",
            "Finished trial 1000\n",
            "T: 74\n",
            "Finished trial 100\n",
            "Finished trial 200\n",
            "Finished trial 300\n",
            "Finished trial 400\n",
            "Finished trial 500\n",
            "Finished trial 600\n",
            "Finished trial 700\n",
            "Finished trial 800\n",
            "Finished trial 900\n",
            "Finished trial 1000\n",
            "T: 78\n",
            "Finished trial 100\n",
            "Finished trial 200\n",
            "Finished trial 300\n",
            "Finished trial 400\n",
            "Finished trial 500\n",
            "Finished trial 600\n",
            "Finished trial 700\n",
            "Finished trial 800\n",
            "Finished trial 900\n",
            "Finished trial 1000\n",
            "T: 82\n",
            "Finished trial 100\n",
            "Finished trial 200\n",
            "Finished trial 300\n",
            "Finished trial 400\n",
            "Finished trial 500\n",
            "Finished trial 600\n",
            "Finished trial 700\n",
            "Finished trial 800\n",
            "Finished trial 900\n",
            "Finished trial 1000\n",
            "T: 86\n",
            "Finished trial 100\n",
            "Finished trial 200\n",
            "Finished trial 300\n",
            "Finished trial 400\n",
            "Finished trial 500\n",
            "Finished trial 600\n",
            "Finished trial 700\n",
            "Finished trial 800\n",
            "Finished trial 900\n",
            "Finished trial 1000\n",
            "T: 90\n",
            "Finished trial 100\n",
            "Finished trial 200\n",
            "Finished trial 300\n",
            "Finished trial 400\n",
            "Finished trial 500\n",
            "Finished trial 600\n",
            "Finished trial 700\n",
            "Finished trial 800\n",
            "Finished trial 900\n",
            "Finished trial 1000\n",
            "T: 94\n",
            "Finished trial 100\n",
            "Finished trial 200\n",
            "Finished trial 300\n",
            "Finished trial 400\n",
            "Finished trial 500\n",
            "Finished trial 600\n",
            "Finished trial 700\n",
            "Finished trial 800\n",
            "Finished trial 900\n",
            "Finished trial 1000\n",
            "T: 98\n",
            "Finished trial 100\n",
            "Finished trial 200\n",
            "Finished trial 300\n",
            "Finished trial 400\n",
            "Finished trial 500\n",
            "Finished trial 600\n",
            "Finished trial 700\n",
            "Finished trial 800\n",
            "Finished trial 900\n",
            "Finished trial 1000\n",
            "T: 102\n",
            "Finished trial 100\n",
            "Finished trial 200\n",
            "Finished trial 300\n",
            "Finished trial 400\n",
            "Finished trial 500\n",
            "Finished trial 600\n",
            "Finished trial 700\n",
            "Finished trial 800\n",
            "Finished trial 900\n",
            "Finished trial 1000\n",
            "T: 106\n",
            "Finished trial 100\n",
            "Finished trial 200\n",
            "Finished trial 300\n",
            "Finished trial 400\n",
            "Finished trial 500\n",
            "Finished trial 600\n",
            "Finished trial 700\n",
            "Finished trial 800\n",
            "Finished trial 900\n",
            "Finished trial 1000\n",
            "T: 110\n",
            "Finished trial 100\n",
            "Finished trial 200\n",
            "Finished trial 300\n",
            "Finished trial 400\n",
            "Finished trial 500\n",
            "Finished trial 600\n",
            "Finished trial 700\n",
            "Finished trial 800\n",
            "Finished trial 900\n",
            "Finished trial 1000\n",
            "T: 114\n",
            "Finished trial 100\n",
            "Finished trial 200\n",
            "Finished trial 300\n",
            "Finished trial 400\n",
            "Finished trial 500\n",
            "Finished trial 600\n",
            "Finished trial 700\n",
            "Finished trial 800\n",
            "Finished trial 900\n",
            "Finished trial 1000\n",
            "T: 118\n",
            "Finished trial 100\n",
            "Finished trial 200\n",
            "Finished trial 300\n",
            "Finished trial 400\n",
            "Finished trial 500\n",
            "Finished trial 600\n",
            "Finished trial 700\n",
            "Finished trial 800\n",
            "Finished trial 900\n",
            "Finished trial 1000\n"
          ],
          "name": "stdout"
        }
      ]
    },
    {
      "cell_type": "code",
      "metadata": {
        "id": "76V8h84lNrlM",
        "colab": {
          "base_uri": "https://localhost:8080/",
          "height": 279
        },
        "outputId": "f3cd141f-dfcb-4de8-9d50-709e0c4d9f7e"
      },
      "source": [
        "accuracy = []\n",
        "upper = [] \n",
        "lower = [] \n",
        "for info in results:\n",
        "    num_errors = info[\"num_errors\"] \n",
        "    \n",
        "    average_errors = np.average(num_errors)\n",
        "    max_errors = np.max(num_errors)\n",
        "    min_errors = np.min(num_errors) \n",
        "    \n",
        "    accuracy.append(1 - average_errors / n)\n",
        "    lower.append((max_errors - average_errors) / n)\n",
        "    upper.append((average_errors - min_errors) / n) \n",
        "\n",
        "plt.errorbar(Ts, accuracy, yerr=[lower, upper], capsize=3, fmt=\"r--o\", ecolor = \"black\")\n",
        "plt.xlabel('Number of Pools')\n",
        "plt.ylabel('Accuracy')\n",
        "plt.show()"
      ],
      "execution_count": 10,
      "outputs": [
        {
          "output_type": "display_data",
          "data": {
            "image/png": "[encoded data removed]",
            "text/plain": [
              "<Figure size 432x288 with 1 Axes>"
            ]
          },
          "metadata": {
            "tags": [],
            "needs_background": "light"
          }
        }
      ]
    },
    {
      "cell_type": "markdown",
      "metadata": {
        "id": "g_1BFF4y9l8v"
      },
      "source": [
        "Specify the number of pools you would like to use, and run the following cells to generate a membership matrix. "
      ]
    },
    {
      "cell_type": "code",
      "metadata": {
        "id": "Qdd2NRwkqqCA"
      },
      "source": [
        "# feel free to modify this cell \n",
        "\n",
        "T = "
      ],
      "execution_count": null,
      "outputs": []
    },
    {
      "cell_type": "code",
      "metadata": {
        "id": "ZmMpt18-B1Q6"
      },
      "source": [
        "M = generate_doubly_regular_col((T, n), column_weight)\n",
        "np.savetxt('membership-matrix.csv', M, delimiter=',')\n",
        "print(\"membership matrix is saved as 'membership-matrix.csv'.\" )"
      ],
      "execution_count": null,
      "outputs": []
    }
  ]
}