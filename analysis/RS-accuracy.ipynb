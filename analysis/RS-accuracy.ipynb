{
 "cells": [
  {
   "cell_type": "markdown",
   "metadata": {},
   "source": [
    "First, download the membership matrix from https://github.com/NoamShental/PBEST/blob/master/mFiles/poolingMatrix.mat \n",
    "\n",
    "Then put the file 'poolingMatrix.mat' inside '/tests/data/' folder. "
   ]
  },
  {
   "cell_type": "code",
   "execution_count": 1,
   "metadata": {},
   "outputs": [],
   "source": [
    "COVID_dir = '/Users/yiningliu/research/pooled-sampling/COVID-19-pooling' # set this to your directory\n",
    "import sys\n",
    "sys.path.insert(1, COVID_dir) "
   ]
  },
  {
   "cell_type": "code",
   "execution_count": 2,
   "metadata": {},
   "outputs": [],
   "source": [
    "import scipy.io\n",
    "import numpy as np\n",
    "from test import test_RS\n",
    "RS_matrix_filepath = '/Users/yiningliu/research/pooled-sampling/COVID-19-pooling/tests/data/poolingMatrix.mat'"
   ]
  },
  {
   "cell_type": "code",
   "execution_count": 3,
   "metadata": {},
   "outputs": [],
   "source": [
    "fpr = 0 \n",
    "fnr = 0 \n",
    "num_trials = 200"
   ]
  },
  {
   "cell_type": "code",
   "execution_count": 4,
   "metadata": {},
   "outputs": [],
   "source": [
    "results = {}"
   ]
  },
  {
   "cell_type": "code",
   "execution_count": null,
   "metadata": {
    "scrolled": true
   },
   "outputs": [
    {
     "name": "stdout",
     "output_type": "stream",
     "text": [
      "Starting trail 0 ...\n",
      "Starting trail 10 ...\n",
      "Starting trail 20 ...\n",
      "Starting trail 30 ...\n",
      "Starting trail 40 ...\n",
      "Starting trail 50 ...\n",
      "Starting trail 60 ...\n",
      "Starting trail 70 ...\n",
      "Starting trail 80 ...\n",
      "Starting trail 90 ...\n",
      "Starting trail 100 ...\n",
      "Starting trail 110 ...\n",
      "Starting trail 120 ...\n",
      "Starting trail 130 ...\n",
      "Starting trail 140 ...\n",
      "Starting trail 150 ...\n",
      "Starting trail 160 ...\n",
      "Starting trail 170 ...\n",
      "Starting trail 180 ...\n",
      "Starting trail 190 ...\n",
      "Starting trail 0 ...\n",
      "Starting trail 10 ...\n",
      "Starting trail 20 ...\n",
      "Starting trail 30 ...\n",
      "Starting trail 40 ...\n",
      "Starting trail 50 ...\n",
      "Starting trail 60 ...\n",
      "Starting trail 70 ...\n",
      "Starting trail 80 ...\n",
      "Starting trail 90 ...\n",
      "Starting trail 100 ...\n",
      "Starting trail 110 ...\n",
      "Starting trail 120 ...\n",
      "Starting trail 130 ...\n",
      "Starting trail 140 ...\n",
      "Starting trail 150 ...\n",
      "Starting trail 160 ...\n",
      "Starting trail 170 ...\n",
      "Starting trail 180 ...\n",
      "Starting trail 190 ...\n",
      "Starting trail 0 ...\n",
      "Starting trail 10 ...\n",
      "Starting trail 20 ...\n",
      "Starting trail 30 ...\n",
      "Starting trail 40 ...\n",
      "Starting trail 50 ...\n",
      "Starting trail 60 ...\n",
      "Starting trail 70 ...\n",
      "Starting trail 80 ...\n",
      "Starting trail 90 ...\n",
      "Starting trail 100 ...\n",
      "Starting trail 110 ...\n",
      "Starting trail 120 ...\n",
      "Starting trail 130 ...\n",
      "Starting trail 140 ...\n",
      "Starting trail 150 ...\n",
      "Starting trail 160 ...\n",
      "Starting trail 170 ...\n",
      "Starting trail 180 ...\n",
      "Starting trail 190 ...\n",
      "Starting trail 0 ...\n",
      "Starting trail 10 ...\n",
      "Starting trail 20 ...\n",
      "Starting trail 30 ...\n",
      "Starting trail 40 ...\n",
      "Starting trail 50 ...\n",
      "Starting trail 60 ...\n",
      "Starting trail 70 ...\n",
      "Starting trail 80 ...\n",
      "Starting trail 90 ...\n",
      "Starting trail 100 ...\n",
      "Starting trail 110 ...\n",
      "Starting trail 120 ...\n",
      "Starting trail 130 ...\n",
      "Starting trail 140 ...\n",
      "Starting trail 150 ...\n",
      "Starting trail 160 ...\n",
      "Starting trail 170 ...\n",
      "Starting trail 180 ...\n",
      "Starting trail 190 ...\n",
      "Starting trail 0 ...\n",
      "Starting trail 10 ...\n",
      "Starting trail 20 ...\n",
      "Starting trail 30 ...\n",
      "Starting trail 40 ...\n",
      "Starting trail 50 ...\n",
      "Starting trail 60 ...\n",
      "Starting trail 70 ...\n",
      "Starting trail 80 ...\n",
      "Starting trail 90 ...\n",
      "Starting trail 100 ...\n",
      "Starting trail 110 ...\n",
      "Starting trail 120 ...\n",
      "Starting trail 130 ...\n",
      "Starting trail 140 ...\n",
      "Starting trail 150 ...\n",
      "Starting trail 160 ...\n",
      "Starting trail 170 ...\n",
      "Starting trail 180 ...\n",
      "Starting trail 190 ...\n",
      "Starting trail 0 ...\n",
      "Starting trail 10 ...\n",
      "Starting trail 20 ...\n",
      "Starting trail 30 ...\n",
      "Starting trail 40 ...\n",
      "Starting trail 50 ...\n",
      "Starting trail 60 ...\n",
      "Starting trail 70 ...\n",
      "Starting trail 80 ...\n",
      "Starting trail 90 ...\n",
      "Starting trail 100 ...\n",
      "Starting trail 110 ...\n",
      "Starting trail 120 ...\n",
      "Starting trail 130 ...\n",
      "Starting trail 140 ...\n",
      "Starting trail 150 ...\n",
      "Starting trail 160 ...\n",
      "Starting trail 170 ...\n",
      "Starting trail 180 ...\n",
      "Starting trail 190 ...\n"
     ]
    }
   ],
   "source": [
    "for k in range(1, 9): \n",
    "    info = test_RS(RS_matrix_filepath, k, fpr, fnr, num_trials)\n",
    "    results[str(k)] = info"
   ]
  },
  {
   "cell_type": "code",
   "execution_count": 2,
   "metadata": {},
   "outputs": [],
   "source": [
    "shental_num_fps = [0, 0, 23, 71, 120, 167, 250] # for k = 1, 2, ..., 7 "
   ]
  },
  {
   "cell_type": "code",
   "execution_count": 3,
   "metadata": {},
   "outputs": [],
   "source": [
    "shental_num_fns = [0, 1, 26, 92, 147, 231, 338] # for k = 1, 2, ..., 7 "
   ]
  },
  {
   "cell_type": "code",
   "execution_count": 4,
   "metadata": {},
   "outputs": [],
   "source": [
    "shental_num_errors = []\n",
    "for i in range(7):\n",
    "    shental_num_errors.append(shental_num_fps[i] + shental_num_fns[i])"
   ]
  },
  {
   "cell_type": "code",
   "execution_count": 7,
   "metadata": {},
   "outputs": [
    {
     "data": {
      "text/plain": [
       "{1: 0, 2: 1, 3: 49, 4: 163, 5: 267, 6: 398, 7: 588}"
      ]
     },
     "execution_count": 7,
     "metadata": {},
     "output_type": "execute_result"
    }
   ],
   "source": [
    "dict(zip(list(range(1, 8)), shental_num_errors))"
   ]
  }
 ],
 "metadata": {
  "kernelspec": {
   "display_name": "Python 3",
   "language": "python",
   "name": "python3"
  },
  "language_info": {
   "codemirror_mode": {
    "name": "ipython",
    "version": 3
   },
   "file_extension": ".py",
   "mimetype": "text/x-python",
   "name": "python",
   "nbconvert_exporter": "python",
   "pygments_lexer": "ipython3",
   "version": "3.8.3"
  }
 },
 "nbformat": 4,
 "nbformat_minor": 4
}
