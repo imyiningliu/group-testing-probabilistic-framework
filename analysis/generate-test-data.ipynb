{
 "cells": [
  {
   "cell_type": "code",
   "execution_count": 4,
   "metadata": {},
   "outputs": [],
   "source": [
    "COVID_dir = '/Users/yiningliu/research/pooled-sampling/COVID-19-pooling' # set this to your directory\n",
    "import sys\n",
    "sys.path.insert(1, COVID_dir) "
   ]
  },
  {
   "cell_type": "code",
   "execution_count": 5,
   "metadata": {},
   "outputs": [],
   "source": [
    "from util import simulate_x"
   ]
  },
  {
   "cell_type": "code",
   "execution_count": 8,
   "metadata": {},
   "outputs": [
    {
     "name": "stdout",
     "output_type": "stream",
     "text": [
      "On average, 0.90 positives in each trail.\n",
      "On average, 1.72 positives in each trail.\n",
      "On average, 2.91 positives in each trail.\n",
      "On average, 3.94 positives in each trail.\n",
      "On average, 4.87 positives in each trail.\n",
      "On average, 5.91 positives in each trail.\n",
      "On average, 6.37 positives in each trail.\n",
      "On average, 7.54 positives in each trail.\n"
     ]
    }
   ],
   "source": [
    "num_samples = 384\n",
    "num_trials = 100\n",
    "for k in range(1, 9): \n",
    "    f = k / 384\n",
    "    filename = \"n%s-f%.4f-numTrials%s.csv\" % (num_samples, f, num_trials)\n",
    "    simulate_x(num_samples, num_trials, f, filename) "
   ]
  },
  {
   "cell_type": "code",
   "execution_count": 9,
   "metadata": {},
   "outputs": [
    {
     "name": "stdout",
     "output_type": "stream",
     "text": [
      "On average, 1.00 positives in each trail.\n",
      "On average, 2.01 positives in each trail.\n",
      "On average, 3.01 positives in each trail.\n",
      "On average, 4.18 positives in each trail.\n",
      "On average, 5.20 positives in each trail.\n",
      "On average, 6.33 positives in each trail.\n",
      "On average, 6.75 positives in each trail.\n",
      "On average, 7.51 positives in each trail.\n"
     ]
    }
   ],
   "source": [
    "num_samples = 384\n",
    "num_trials = 100\n",
    "for k in range(1, 9): \n",
    "    f = k / 384\n",
    "    filename = \"n%s-f%.4f-numTrials%s-test.csv\" % (num_samples, f, num_trials)\n",
    "    simulate_x(num_samples, num_trials, f, filename) "
   ]
  },
  {
   "cell_type": "code",
   "execution_count": null,
   "metadata": {},
   "outputs": [],
   "source": []
  }
 ],
 "metadata": {
  "kernelspec": {
   "display_name": "Python 3",
   "language": "python",
   "name": "python3"
  },
  "language_info": {
   "codemirror_mode": {
    "name": "ipython",
    "version": 3
   },
   "file_extension": ".py",
   "mimetype": "text/x-python",
   "name": "python",
   "nbconvert_exporter": "python",
   "pygments_lexer": "ipython3",
   "version": "3.8.3"
  }
 },
 "nbformat": 4,
 "nbformat_minor": 4
}
