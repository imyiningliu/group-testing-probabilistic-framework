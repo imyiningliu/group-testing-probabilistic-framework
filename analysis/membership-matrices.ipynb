{
 "cells": [
  {
   "cell_type": "markdown",
   "metadata": {},
   "source": [
    "First, download the membership matrix from https://github.com/NoamShental/PBEST/blob/master/mFiles/poolingMatrix.mat \n",
    "\n",
    "Then put the file 'poolingMatrix.mat' inside '/tests/data/' folder. "
   ]
  },
  {
   "cell_type": "code",
   "execution_count": 1,
   "metadata": {},
   "outputs": [],
   "source": [
    "COVID_dir = '/Users/yiningliu/research/pooled-sampling/COVID-19-pooling' # set this to your directory\n",
    "import sys\n",
    "sys.path.insert(1, COVID_dir) "
   ]
  },
  {
   "cell_type": "code",
   "execution_count": 2,
   "metadata": {},
   "outputs": [],
   "source": [
    "import scipy.io\n",
    "import numpy as np\n",
    "from test import test_RS, test_M\n",
    "from util import simulate_x\n",
    "import matplotlib.pyplot as plt\n",
    "import os\n",
    "import json\n",
    "from membership_matrix import generate_doubly_regular_col"
   ]
  },
  {
   "cell_type": "code",
   "execution_count": 3,
   "metadata": {},
   "outputs": [],
   "source": [
    "if not os.path.exists(\"./results/\"):\n",
    "    os.mkdir('results')"
   ]
  },
  {
   "cell_type": "code",
   "execution_count": 4,
   "metadata": {},
   "outputs": [],
   "source": [
    "num_trials = 1000\n",
    "n = 384\n",
    "ks = list(range(1, 10)) "
   ]
  },
  {
   "cell_type": "code",
   "execution_count": 4,
   "metadata": {
    "scrolled": true
   },
   "outputs": [
    {
     "name": "stdout",
     "output_type": "stream",
     "text": [
      "On average, 0.99 positives in each trail.\n",
      "On average, 2.00 positives in each trail.\n",
      "On average, 2.90 positives in each trail.\n",
      "On average, 4.00 positives in each trail.\n",
      "On average, 5.03 positives in each trail.\n",
      "On average, 6.02 positives in each trail.\n",
      "On average, 6.80 positives in each trail.\n",
      "On average, 7.89 positives in each trail.\n",
      "On average, 9.20 positives in each trail.\n"
     ]
    }
   ],
   "source": [
    "for k in ks: \n",
    "    simulate_x(n, k/n, num_trials) "
   ]
  },
  {
   "cell_type": "code",
   "execution_count": 5,
   "metadata": {},
   "outputs": [
    {
     "name": "stdout",
     "output_type": "stream",
     "text": [
      "1\n",
      "Starting trial 0\n",
      "Starting trial 100\n",
      "Starting trial 200\n",
      "Starting trial 300\n",
      "Starting trial 400\n",
      "Starting trial 500\n",
      "Starting trial 600\n",
      "Starting trial 700\n",
      "Starting trial 800\n",
      "Starting trial 900\n",
      "2\n",
      "Starting trial 0\n",
      "Starting trial 100\n",
      "Starting trial 200\n",
      "Starting trial 300\n",
      "Starting trial 400\n",
      "Starting trial 500\n",
      "Starting trial 600\n",
      "Starting trial 700\n",
      "Starting trial 800\n",
      "Starting trial 900\n",
      "3\n",
      "Starting trial 0\n",
      "Starting trial 100\n",
      "Starting trial 200\n",
      "Starting trial 300\n",
      "Starting trial 400\n",
      "Starting trial 500\n",
      "Starting trial 600\n",
      "Starting trial 700\n",
      "Starting trial 800\n",
      "Starting trial 900\n",
      "4\n",
      "Starting trial 0\n",
      "Starting trial 100\n",
      "Starting trial 200\n",
      "Starting trial 300\n",
      "Starting trial 400\n",
      "Starting trial 500\n",
      "Starting trial 600\n",
      "Starting trial 700\n",
      "Starting trial 800\n",
      "Starting trial 900\n",
      "5\n",
      "Starting trial 0\n",
      "Starting trial 100\n",
      "Starting trial 200\n",
      "Starting trial 300\n",
      "Starting trial 400\n",
      "Starting trial 500\n",
      "Starting trial 600\n",
      "Starting trial 700\n",
      "Starting trial 800\n",
      "Starting trial 900\n",
      "6\n",
      "Starting trial 0\n",
      "Starting trial 100\n",
      "Starting trial 200\n",
      "Starting trial 300\n",
      "Starting trial 400\n",
      "Starting trial 500\n",
      "Starting trial 600\n",
      "Starting trial 700\n",
      "Starting trial 800\n",
      "Starting trial 900\n",
      "7\n",
      "Starting trial 0\n",
      "Starting trial 100\n",
      "Starting trial 200\n",
      "Starting trial 300\n",
      "Starting trial 400\n",
      "Starting trial 500\n",
      "Starting trial 600\n",
      "Starting trial 700\n",
      "Starting trial 800\n",
      "Starting trial 900\n",
      "8\n",
      "Starting trial 0\n",
      "Starting trial 100\n",
      "Starting trial 200\n",
      "Starting trial 300\n",
      "Starting trial 400\n",
      "Starting trial 500\n",
      "Starting trial 600\n",
      "Starting trial 700\n",
      "Starting trial 800\n",
      "Starting trial 900\n",
      "9\n",
      "Starting trial 0\n",
      "Starting trial 100\n",
      "Starting trial 200\n",
      "Starting trial 300\n",
      "Starting trial 400\n",
      "Starting trial 500\n",
      "Starting trial 600\n",
      "Starting trial 700\n",
      "Starting trial 800\n",
      "Starting trial 900\n"
     ]
    }
   ],
   "source": [
    "results = []\n",
    "for k in ks: \n",
    "    print(k)\n",
    "    results.append(test_RS(k/384, fpr=0, fnr=0, num_trials=num_trials)) "
   ]
  },
  {
   "cell_type": "code",
   "execution_count": 28,
   "metadata": {},
   "outputs": [
    {
     "data": {
      "image/png": "[encoded data removed]",
      "text/plain": [
       "<Figure size 432x288 with 1 Axes>"
      ]
     },
     "metadata": {
      "needs_background": "light"
     },
     "output_type": "display_data"
    }
   ],
   "source": [
    "accuracy = []\n",
    "upper = [] \n",
    "lower = [] \n",
    "for info in results:\n",
    "    num_errors = info[\"num_errors\"] \n",
    "    \n",
    "    average_errors = np.average(num_errors)\n",
    "    max_errors = np.max(num_errors)\n",
    "    min_errors = np.min(num_errors) \n",
    "    \n",
    "    accuracy.append(1 - average_errors / n)\n",
    "    lower.append((max_errors - average_errors) / n)\n",
    "    upper.append((average_errors - min_errors) / n) \n",
    "\n",
    "plt.errorbar(ks, accuracy, yerr=[lower, upper], capsize=3, fmt=\"r--o\", ecolor = \"black\")\n",
    "plt.title(\"RS Accuracy\")\n",
    "plt.savefig(\"./results/RS-Accuracy-numTrials%s\" % num_trials)"
   ]
  },
  {
   "cell_type": "code",
   "execution_count": 32,
   "metadata": {},
   "outputs": [],
   "source": [
    "with open(\"./results/RS-Accuracy-numTrials%s.txt\" % num_trials, 'w') as outfile:\n",
    "    json.dump(results, outfile)"
   ]
  },
  {
   "cell_type": "markdown",
   "metadata": {},
   "source": [
    "# Doubly Regular, f = 9/384, Fix number of pools = 48"
   ]
  },
  {
   "cell_type": "code",
   "execution_count": 5,
   "metadata": {},
   "outputs": [],
   "source": [
    "f = 9/384\n",
    "T = 48\n",
    "ms = list(range(1, 10)) "
   ]
  },
  {
   "cell_type": "code",
   "execution_count": null,
   "metadata": {},
   "outputs": [
    {
     "name": "stdout",
     "output_type": "stream",
     "text": [
      "1\n",
      "Starting trial 0\n",
      "Starting trial 100\n",
      "Starting trial 200\n",
      "Starting trial 300\n",
      "Starting trial 400\n",
      "Starting trial 500\n",
      "Starting trial 600\n",
      "Starting trial 700\n",
      "Starting trial 800\n",
      "Starting trial 900\n",
      "2\n",
      "Starting trial 0\n",
      "Starting trial 100\n",
      "Starting trial 200\n"
     ]
    }
   ],
   "source": [
    "results = []\n",
    "for m in ms: \n",
    "    print(m)\n",
    "    M = generate_doubly_regular_col((T, n), m)\n",
    "    results.append(test_M(M, f, fpr=0, fnr=0, num_trials=num_trials)) "
   ]
  },
  {
   "cell_type": "code",
   "execution_count": null,
   "metadata": {},
   "outputs": [],
   "source": [
    "accuracy = []\n",
    "upper = [] \n",
    "lower = [] \n",
    "\n",
    "for info in results:\n",
    "    num_errors = info[\"num_errors\"] \n",
    "\n",
    "    average_errors = np.average(num_errors)\n",
    "    max_errors = np.max(num_errors)\n",
    "    min_errors = np.min(num_errors) \n",
    "\n",
    "    accuracy.append(1 - average_errors / n)\n",
    "    lower.append((max_errors - average_errors) / n)\n",
    "    upper.append((average_errors - min_errors) / n) \n",
    "\n",
    "plt.errorbar(ms, accuracy, yerr=[lower, upper], capsize=3, fmt=\"r--o\", ecolor = \"black\")\n",
    "plt.xlabel('Column Weights')\n",
    "plt.ylabel('Accuracy')\n",
    "plt.title('Doubly Regular Accuracy for f = %.4f' % f)\n",
    "plt.savefig(\"./results/doubly-regular-f%.4f-numTrials%s\" % (f, num_trials)) "
   ]
  },
  {
   "cell_type": "code",
   "execution_count": null,
   "metadata": {},
   "outputs": [],
   "source": [
    "with open(\"./results/doubly-regular-numTrials%s.txt\" % num_trials, 'w') as outfile:\n",
    "    json.dump(results, outfile)"
   ]
  },
  {
   "cell_type": "markdown",
   "metadata": {},
   "source": [
    "# Constant Column Weight"
   ]
  },
  {
   "cell_type": "code",
   "execution_count": null,
   "metadata": {},
   "outputs": [],
   "source": [
    "from membership_matrix import generate_const_col_weight"
   ]
  },
  {
   "cell_type": "code",
   "execution_count": null,
   "metadata": {},
   "outputs": [],
   "source": [
    "f = 9/384\n",
    "T = 48\n",
    "ms = list(range(1, 10)) "
   ]
  },
  {
   "cell_type": "code",
   "execution_count": null,
   "metadata": {},
   "outputs": [],
   "source": [
    "results = []\n",
    "for m in ms: \n",
    "    print(m)\n",
    "    M = generate_const_col_weight((T, n), m)\n",
    "    results.append(test_M(M, f, fpr=0, fnr=0, num_trials=num_trials)) "
   ]
  },
  {
   "cell_type": "code",
   "execution_count": null,
   "metadata": {},
   "outputs": [],
   "source": [
    "accuracy = []\n",
    "upper = [] \n",
    "lower = [] \n",
    "\n",
    "for info in results:\n",
    "    num_errors = info[\"num_errors\"] \n",
    "\n",
    "    average_errors = np.average(num_errors)\n",
    "    max_errors = np.max(num_errors)\n",
    "    min_errors = np.min(num_errors) \n",
    "\n",
    "    accuracy.append(1 - average_errors / n)\n",
    "    lower.append((max_errors - average_errors) / n)\n",
    "    upper.append((average_errors - min_errors) / n) \n",
    "\n",
    "plt.errorbar(ms, accuracy, yerr=[lower, upper], capsize=3, fmt=\"r--o\", ecolor = \"black\")\n",
    "plt.xlabel('Column Weights')\n",
    "plt.ylabel('Accuracy')\n",
    "plt.title('Constant Column Weights Accuracy for f = %.4f' % f)\n",
    "plt.savefig(\"./results/const-col-f%.4f-numTrials%s\" % (f, num_trials)) "
   ]
  },
  {
   "cell_type": "code",
   "execution_count": null,
   "metadata": {},
   "outputs": [],
   "source": [
    "with open(\"./results/const-col-numTrials%s.txt\" % num_trials, 'w') as outfile:\n",
    "    json.dump(results, outfile)"
   ]
  },
  {
   "cell_type": "markdown",
   "metadata": {},
   "source": [
    "# Constant Row "
   ]
  },
  {
   "cell_type": "code",
   "execution_count": null,
   "metadata": {},
   "outputs": [],
   "source": [
    "from membership_matrix import generate_const_row_weight"
   ]
  },
  {
   "cell_type": "code",
   "execution_count": null,
   "metadata": {},
   "outputs": [],
   "source": [
    "f = 9/384\n",
    "T = 48\n",
    "ms = list(range(10, 80, 2))"
   ]
  },
  {
   "cell_type": "code",
   "execution_count": null,
   "metadata": {},
   "outputs": [],
   "source": [
    "results = []\n",
    "for m in ms: \n",
    "    print(m)\n",
    "    M = generate_const_row_weight((T, n), m)\n",
    "    results.append(test_M(M, f, fpr=0, fnr=0, num_trials=num_trials)) "
   ]
  },
  {
   "cell_type": "code",
   "execution_count": null,
   "metadata": {},
   "outputs": [],
   "source": [
    "accuracy = []\n",
    "upper = [] \n",
    "lower = [] \n",
    "\n",
    "for info in results:\n",
    "    num_errors = info[\"num_errors\"] \n",
    "\n",
    "    average_errors = np.average(num_errors)\n",
    "    max_errors = np.max(num_errors)\n",
    "    min_errors = np.min(num_errors) \n",
    "\n",
    "    accuracy.append(1 - average_errors / n)\n",
    "    lower.append((max_errors - average_errors) / n)\n",
    "    upper.append((average_errors - min_errors) / n) \n",
    "\n",
    "plt.errorbar(ms, accuracy, yerr=[lower, upper], capsize=3, fmt=\"r--o\", ecolor = \"black\")\n",
    "plt.xlabel('Row Weights')\n",
    "plt.ylabel('Accuracy')\n",
    "plt.title('Constant Row Weights Accuracy for f = %.4f' % f)\n",
    "plt.savefig(\"./results/const-row-f%.4f-numTrials%s\" % (f, num_trials)) "
   ]
  },
  {
   "cell_type": "code",
   "execution_count": null,
   "metadata": {},
   "outputs": [],
   "source": [
    "with open(\"./results/const-row-numTrials%s.txt\" % num_trials, 'w') as outfile:\n",
    "    json.dump(results, outfile)"
   ]
  },
  {
   "cell_type": "markdown",
   "metadata": {},
   "source": [
    "# Doubly Regular Row"
   ]
  },
  {
   "cell_type": "code",
   "execution_count": null,
   "metadata": {},
   "outputs": [],
   "source": [
    "from membership_matrix import generate_doubly_regular_row"
   ]
  },
  {
   "cell_type": "code",
   "execution_count": null,
   "metadata": {},
   "outputs": [],
   "source": [
    "f = 9/384\n",
    "T = 48\n",
    "ms = list(range(10, 80, 2))"
   ]
  },
  {
   "cell_type": "code",
   "execution_count": null,
   "metadata": {},
   "outputs": [],
   "source": [
    "results = []\n",
    "for m in ms: \n",
    "    print(m)\n",
    "    M = generate_doubly_regular_row((T, n), m)\n",
    "    results.append(test_M(M, f, fpr=0, fnr=0, num_trials=num_trials)) "
   ]
  },
  {
   "cell_type": "code",
   "execution_count": null,
   "metadata": {},
   "outputs": [],
   "source": [
    "accuracy = []\n",
    "upper = [] \n",
    "lower = [] \n",
    "\n",
    "for info in results:\n",
    "    num_errors = info[\"num_errors\"] \n",
    "\n",
    "    average_errors = np.average(num_errors)\n",
    "    max_errors = np.max(num_errors)\n",
    "    min_errors = np.min(num_errors) \n",
    "\n",
    "    accuracy.append(1 - average_errors / n)\n",
    "    lower.append((max_errors - average_errors) / n)\n",
    "    upper.append((average_errors - min_errors) / n) \n",
    "\n",
    "plt.errorbar(ms, accuracy, yerr=[lower, upper], capsize=3, fmt=\"r--o\", ecolor = \"black\")\n",
    "plt.xlabel('Row Weights')\n",
    "plt.ylabel('Accuracy')\n",
    "plt.title('Doubly Regular Row Weights Accuracy for f = %.4f' % f)\n",
    "plt.savefig(\"./results/doubly-regular-row-f%.4f-numTrials%s\" % (f, num_trials)) "
   ]
  },
  {
   "cell_type": "code",
   "execution_count": null,
   "metadata": {},
   "outputs": [],
   "source": []
  }
 ],
 "metadata": {
  "kernelspec": {
   "display_name": "Python 3",
   "language": "python",
   "name": "python3"
  },
  "language_info": {
   "codemirror_mode": {
    "name": "ipython",
    "version": 3
   },
   "file_extension": ".py",
   "mimetype": "text/x-python",
   "name": "python",
   "nbconvert_exporter": "python",
   "pygments_lexer": "ipython3",
   "version": "3.8.3"
  }
 },
 "nbformat": 4,
 "nbformat_minor": 4
}
