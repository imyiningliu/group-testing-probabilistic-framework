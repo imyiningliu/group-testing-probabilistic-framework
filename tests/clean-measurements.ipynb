{
 "cells": [
  {
   "cell_type": "code",
   "execution_count": 1,
   "metadata": {},
   "outputs": [],
   "source": [
    "import sys\n",
    "sys.path.insert(1, '/Users/yiningliu/research/pooled-sampling/COVID-19-pooling') # set this to your directory"
   ]
  },
  {
   "cell_type": "code",
   "execution_count": 2,
   "metadata": {},
   "outputs": [],
   "source": [
    "import numpy as np\n",
    "from numpy import genfromtxt\n",
    "import scipy.io\n",
    "from test import recover_pool_results"
   ]
  },
  {
   "cell_type": "code",
   "execution_count": 4,
   "metadata": {},
   "outputs": [],
   "source": [
    "# this is the membership matrix by Shental et al. \n",
    "# file is downloaded from https://github.com/NoamShental/PBEST/blob/master/mFiles/poolingMatrix.mat \n",
    "matrix_file = scipy.io.loadmat('/Users/yiningliu/research/pooled-sampling/COVID-19-pooling/tests/data/shental-poolingMatrix.mat')\n",
    "membership_matrix = matrix_file['poolingMatrix'] "
   ]
  },
  {
   "cell_type": "code",
   "execution_count": 16,
   "metadata": {},
   "outputs": [],
   "source": [
    "def compare_truth_and_estimates(true_infection_vectors_file, fpr, fnr, f): \n",
    "    \"get ground truth from true_infection_vectors_file and attempt to recover the ground truth.\" \n",
    "    xs = genfromtxt(true_infection_vectors_file, delimiter=',')\n",
    "    pool_results = np.sign(np.matmul(membership_matrix, xs)) \n",
    "    recovered_xs = recover_pool_results(membership_matrix, pool_results, fpr, fnr, f) \n",
    "    \n",
    "    print(\"=========================\") \n",
    "    \n",
    "    num_errors = (xs != recovered_xs).sum()\n",
    "    num_fp = ((xs == 0) * (recovered_xs == 1)).sum() \n",
    "    num_fn = ((xs == 1) * (recovered_xs == 0)).sum() \n",
    "    print(\"%s errors: %s false positive(s), %s false negative(s)\" % (num_errors, num_fp, num_fn))\n",
    "    accuracy = (xs == recovered_xs).sum() / xs.size \n",
    "    print(\"accuracy: %.2f %%\" % (accuracy * 100))\n",
    "    return xs, recovered_xs \n",
    "\n",
    "def check_ILP_optimality(xs, recovered_xs): \n",
    "    \"This is only for noiseless data. For noisy measurement, need to include ||f|| and ||n|| in the objective.\"\n",
    "    _, num_trials = xs.shape\n",
    "    for trial in range(100):\n",
    "        x, recovered_x = xs[:, trial], recovered_xs[:, trial] \n",
    "        num_errors = (x != recovered_x).sum()\n",
    "        if num_errors != 0:\n",
    "            print(\"||x|| >= ||recovered_x||? %s\" % (sum(x) >= sum(recovered_x)))"
   ]
  },
  {
   "cell_type": "markdown",
   "metadata": {},
   "source": [
    "# Test Result for f = 1/384"
   ]
  },
  {
   "cell_type": "code",
   "execution_count": 17,
   "metadata": {},
   "outputs": [
    {
     "name": "stdout",
     "output_type": "stream",
     "text": [
      "Starting trail 0 ...\n",
      "Starting trail 10 ...\n",
      "Starting trail 20 ...\n",
      "Starting trail 30 ...\n",
      "Starting trail 40 ...\n",
      "Starting trail 50 ...\n",
      "Starting trail 60 ...\n",
      "Starting trail 70 ...\n",
      "Starting trail 80 ...\n",
      "Starting trail 90 ...\n",
      "=========================\n",
      "0 errors: 0 false positive(s), 0 false negative(s)\n",
      "accuracy: 100.00 %\n"
     ]
    }
   ],
   "source": [
    "fpr, fnr, f = 0, 0, 1/384 \n",
    "file_1 = '/Users/yiningliu/research/pooled-sampling/COVID-19-pooling/tests/data/x-p-1-384.csv' \n",
    "xs, recovered_xs = compare_truth_and_estimates(file_1, fpr, fnr, f)\n",
    "check_ILP_optimality(xs, recovered_xs)"
   ]
  },
  {
   "cell_type": "markdown",
   "metadata": {},
   "source": [
    "# Test Result for f = 2/384"
   ]
  },
  {
   "cell_type": "code",
   "execution_count": 18,
   "metadata": {},
   "outputs": [
    {
     "name": "stdout",
     "output_type": "stream",
     "text": [
      "Starting trail 0 ...\n",
      "Starting trail 10 ...\n",
      "Starting trail 20 ...\n",
      "Starting trail 30 ...\n",
      "Starting trail 40 ...\n",
      "Starting trail 50 ...\n",
      "Starting trail 60 ...\n",
      "Starting trail 70 ...\n",
      "Starting trail 80 ...\n",
      "Starting trail 90 ...\n",
      "=========================\n",
      "1 errors: 0 false positive(s), 1 false negative(s)\n",
      "accuracy: 100.00 %\n",
      "||x|| >= ||recovered_x||? True\n"
     ]
    }
   ],
   "source": [
    "fpr, fnr, f = 0, 0, 2/384 \n",
    "file_1 = '/Users/yiningliu/research/pooled-sampling/COVID-19-pooling/tests/data/x-p-2-384.csv' \n",
    "xs, recovered_xs = compare_truth_and_estimates(file_1, fpr, fnr, f)\n",
    "check_ILP_optimality(xs, recovered_xs)"
   ]
  },
  {
   "cell_type": "markdown",
   "metadata": {},
   "source": [
    "# Test Result for f = 3/384"
   ]
  },
  {
   "cell_type": "code",
   "execution_count": 19,
   "metadata": {},
   "outputs": [
    {
     "name": "stdout",
     "output_type": "stream",
     "text": [
      "Starting trail 0 ...\n",
      "Starting trail 10 ...\n",
      "Starting trail 20 ...\n",
      "Starting trail 30 ...\n",
      "Starting trail 40 ...\n",
      "Starting trail 50 ...\n",
      "Starting trail 60 ...\n",
      "Starting trail 70 ...\n",
      "Starting trail 80 ...\n",
      "Starting trail 90 ...\n",
      "=========================\n",
      "33 errors: 15 false positive(s), 18 false negative(s)\n",
      "accuracy: 99.91 %\n",
      "||x|| >= ||recovered_x||? True\n",
      "||x|| >= ||recovered_x||? True\n",
      "||x|| >= ||recovered_x||? True\n",
      "||x|| >= ||recovered_x||? True\n",
      "||x|| >= ||recovered_x||? True\n",
      "||x|| >= ||recovered_x||? True\n",
      "||x|| >= ||recovered_x||? True\n"
     ]
    }
   ],
   "source": [
    "fpr, fnr, f = 0, 0, 3/384 \n",
    "file_1 = '/Users/yiningliu/research/pooled-sampling/COVID-19-pooling/tests/data/x-p-3-384.csv' \n",
    "xs, recovered_xs = compare_truth_and_estimates(file_1, fpr, fnr, f)\n",
    "check_ILP_optimality(xs, recovered_xs)"
   ]
  },
  {
   "cell_type": "markdown",
   "metadata": {},
   "source": [
    "# Test Result for f = 4/384"
   ]
  },
  {
   "cell_type": "code",
   "execution_count": 20,
   "metadata": {},
   "outputs": [
    {
     "name": "stdout",
     "output_type": "stream",
     "text": [
      "Starting trail 0 ...\n",
      "Starting trail 10 ...\n",
      "Starting trail 20 ...\n",
      "Starting trail 30 ...\n",
      "Starting trail 40 ...\n",
      "Starting trail 50 ...\n",
      "Starting trail 60 ...\n",
      "Starting trail 70 ...\n",
      "Starting trail 80 ...\n",
      "Starting trail 90 ...\n",
      "=========================\n",
      "151 errors: 65 false positive(s), 86 false negative(s)\n",
      "accuracy: 99.61 %\n",
      "||x|| >= ||recovered_x||? True\n",
      "||x|| >= ||recovered_x||? True\n",
      "||x|| >= ||recovered_x||? True\n",
      "||x|| >= ||recovered_x||? True\n",
      "||x|| >= ||recovered_x||? True\n",
      "||x|| >= ||recovered_x||? True\n",
      "||x|| >= ||recovered_x||? True\n",
      "||x|| >= ||recovered_x||? True\n",
      "||x|| >= ||recovered_x||? True\n",
      "||x|| >= ||recovered_x||? True\n",
      "||x|| >= ||recovered_x||? True\n",
      "||x|| >= ||recovered_x||? True\n",
      "||x|| >= ||recovered_x||? True\n",
      "||x|| >= ||recovered_x||? True\n",
      "||x|| >= ||recovered_x||? True\n",
      "||x|| >= ||recovered_x||? True\n",
      "||x|| >= ||recovered_x||? True\n",
      "||x|| >= ||recovered_x||? True\n"
     ]
    }
   ],
   "source": [
    "fpr, fnr, f = 0, 0, 4/384 \n",
    "file_1 = '/Users/yiningliu/research/pooled-sampling/COVID-19-pooling/tests/data/x-p-4-384.csv' \n",
    "xs, recovered_xs = compare_truth_and_estimates(file_1, fpr, fnr, f)\n",
    "check_ILP_optimality(xs, recovered_xs)"
   ]
  },
  {
   "cell_type": "code",
   "execution_count": null,
   "metadata": {},
   "outputs": [],
   "source": []
  }
 ],
 "metadata": {
  "kernelspec": {
   "display_name": "Python 3",
   "language": "python",
   "name": "python3"
  },
  "language_info": {
   "codemirror_mode": {
    "name": "ipython",
    "version": 3
   },
   "file_extension": ".py",
   "mimetype": "text/x-python",
   "name": "python",
   "nbconvert_exporter": "python",
   "pygments_lexer": "ipython3",
   "version": "3.8.3"
  }
 },
 "nbformat": 4,
 "nbformat_minor": 4
}
