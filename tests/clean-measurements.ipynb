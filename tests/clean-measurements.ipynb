{
 "cells": [
  {
   "cell_type": "code",
   "execution_count": 1,
   "metadata": {},
   "outputs": [],
   "source": [
    "import sys\n",
    "sys.path.insert(1, '/Users/yiningliu/research/pooled-sampling/COVID-19-pooling') # set this to your directory"
   ]
  },
  {
   "cell_type": "code",
   "execution_count": 2,
   "metadata": {},
   "outputs": [],
   "source": [
    "import numpy as np\n",
    "from numpy import genfromtxt\n",
    "import scipy.io\n",
    "from test import recover_pool_results"
   ]
  },
  {
   "cell_type": "code",
   "execution_count": 3,
   "metadata": {},
   "outputs": [],
   "source": [
    "# this is the membership matrix by Shental et al. \n",
    "# download the file from https://github.com/NoamShental/PBEST/blob/master/mFiles/poolingMatrix.mat \n",
    "matrix_file = scipy.io.loadmat('/Users/yiningliu/research/pooled-sampling/COVID-19-pooling/tests/data/shental-poolingMatrix.mat')\n",
    "membership_matrix = matrix_file['poolingMatrix'] "
   ]
  },
  {
   "cell_type": "code",
   "execution_count": 105,
   "metadata": {},
   "outputs": [],
   "source": [
    "def compare_truth_and_estimates(membership_matrix, true_infection_vectors_file, fpr, fnr, f): \n",
    "    \"get ground truth from true_infection_vectors_file and attempt to recover the ground truth.\" \n",
    "    xs = genfromtxt(true_infection_vectors_file, delimiter=',')\n",
    "    pool_results = np.sign(np.matmul(membership_matrix, xs)) \n",
    "    recovered_xs, recovered_false_ps, recovered_false_ns = recover_pool_results(membership_matrix, pool_results, fpr, fnr, f) \n",
    "    \n",
    "    print(\"=========================\") \n",
    "    \n",
    "    num_errors = (xs != recovered_xs).sum()\n",
    "    num_fp = ((xs == 0) * (recovered_xs == 1)).sum() \n",
    "    num_fn = ((xs == 1) * (recovered_xs == 0)).sum() \n",
    "    print(\"%s errors: %s false positive(s), %s false negative(s)\" % (num_errors, num_fp, num_fn))\n",
    "    accuracy = (xs == recovered_xs).sum() / xs.size \n",
    "    print(\"accuracy: %.2f %%\" % (accuracy * 100))\n",
    "    return xs, recovered_xs, recovered_false_ps, recovered_false_ns\n",
    "\n",
    "def check_ILP_optimality(xs, recovered_xs): \n",
    "    \"This is only for noiseless data. For noisy measurement, need to include ||f|| and ||n|| in the objective.\"\n",
    "    _, num_trials = xs.shape\n",
    "    for trial in range(100):\n",
    "        x, recovered_x = xs[:, trial], recovered_xs[:, trial] \n",
    "        num_errors = (x != recovered_x).sum()\n",
    "        if num_errors != 0:\n",
    "            print(\"||x|| = %s >= ||recovered_x||? %s\" % (sum(x), sum(x) >= sum(recovered_x)))"
   ]
  },
  {
   "cell_type": "markdown",
   "metadata": {},
   "source": [
    "# Test Result for f = 1/384"
   ]
  },
  {
   "cell_type": "code",
   "execution_count": 16,
   "metadata": {},
   "outputs": [
    {
     "name": "stdout",
     "output_type": "stream",
     "text": [
      "Starting trail 0 ...\n",
      "Starting trail 10 ...\n",
      "Starting trail 20 ...\n",
      "Starting trail 30 ...\n",
      "Starting trail 40 ...\n",
      "Starting trail 50 ...\n",
      "Starting trail 60 ...\n",
      "Starting trail 70 ...\n",
      "Starting trail 80 ...\n",
      "Starting trail 90 ...\n",
      "=========================\n",
      "0 errors: 0 false positive(s), 0 false negative(s)\n",
      "accuracy: 100.00 %\n"
     ]
    }
   ],
   "source": [
    "fpr, fnr, f = 0, 0, 1/384 \n",
    "file1 = '/Users/yiningliu/research/pooled-sampling/COVID-19-pooling/tests/data/x-p-1-384.csv' \n",
    "xs, recovered_xs, recovered_false_ps, recovered_false_ns = compare_truth_and_estimates(file_1, fpr, fnr, f)\n",
    "check_ILP_optimality(xs, recovered_xs)"
   ]
  },
  {
   "cell_type": "markdown",
   "metadata": {},
   "source": [
    "# Test Result for f = 2/384"
   ]
  },
  {
   "cell_type": "code",
   "execution_count": 26,
   "metadata": {},
   "outputs": [
    {
     "name": "stdout",
     "output_type": "stream",
     "text": [
      "Starting trail 0 ...\n",
      "Starting trail 10 ...\n",
      "Starting trail 20 ...\n",
      "Starting trail 30 ...\n",
      "Starting trail 40 ...\n",
      "Starting trail 50 ...\n",
      "Starting trail 60 ...\n",
      "Starting trail 70 ...\n",
      "Starting trail 80 ...\n",
      "Starting trail 90 ...\n",
      "=========================\n",
      "1 errors: 0 false positive(s), 1 false negative(s)\n",
      "accuracy: 100.00 %\n",
      "||x|| = 6.0 >= ||recovered_x||? True\n"
     ]
    }
   ],
   "source": [
    "fpr, fnr, f = 0, 0, 2/384 \n",
    "file2 = '/Users/yiningliu/research/pooled-sampling/COVID-19-pooling/tests/data/x-p-2-384.csv' \n",
    "xs, recovered_xs, recovered_false_ps, recovered_false_ns = compare_truth_and_estimates(file2, fpr, fnr, f)\n",
    "check_ILP_optimality(xs, recovered_xs)"
   ]
  },
  {
   "cell_type": "markdown",
   "metadata": {},
   "source": [
    "# Test Result for f = 3/384"
   ]
  },
  {
   "cell_type": "code",
   "execution_count": 29,
   "metadata": {},
   "outputs": [
    {
     "name": "stdout",
     "output_type": "stream",
     "text": [
      "Starting trail 0 ...\n",
      "Starting trail 10 ...\n",
      "Starting trail 20 ...\n",
      "Starting trail 30 ...\n",
      "Starting trail 40 ...\n",
      "Starting trail 50 ...\n",
      "Starting trail 60 ...\n",
      "Starting trail 70 ...\n",
      "Starting trail 80 ...\n",
      "Starting trail 90 ...\n",
      "=========================\n",
      "33 errors: 15 false positive(s), 18 false negative(s)\n",
      "accuracy: 99.91 %\n",
      "||x|| = 5.0 >= ||recovered_x||? True\n",
      "||x|| = 7.0 >= ||recovered_x||? True\n",
      "||x|| = 6.0 >= ||recovered_x||? True\n",
      "||x|| = 8.0 >= ||recovered_x||? True\n",
      "||x|| = 8.0 >= ||recovered_x||? True\n",
      "||x|| = 7.0 >= ||recovered_x||? True\n",
      "||x|| = 7.0 >= ||recovered_x||? True\n"
     ]
    }
   ],
   "source": [
    "fpr, fnr, f = 0, 0, 3/384 \n",
    "file3 = '/Users/yiningliu/research/pooled-sampling/COVID-19-pooling/tests/data/x-p-3-384.csv' \n",
    "xs, recovered_xs, recovered_false_ps, recovered_false_ns = compare_truth_and_estimates(file3, fpr, fnr, f)\n",
    "check_ILP_optimality(xs, recovered_xs)"
   ]
  },
  {
   "cell_type": "code",
   "execution_count": 31,
   "metadata": {},
   "outputs": [
    {
     "data": {
      "text/plain": [
       "(0.0, 0.0)"
      ]
     },
     "execution_count": 31,
     "metadata": {},
     "output_type": "execute_result"
    }
   ],
   "source": [
    "recovered_false_ps.sum(), recovered_false_ns.sum() # should be zeros"
   ]
  },
  {
   "cell_type": "markdown",
   "metadata": {},
   "source": [
    "# Test Result for f = 4/384"
   ]
  },
  {
   "cell_type": "code",
   "execution_count": 32,
   "metadata": {},
   "outputs": [
    {
     "name": "stdout",
     "output_type": "stream",
     "text": [
      "Starting trail 0 ...\n",
      "Starting trail 10 ...\n",
      "Starting trail 20 ...\n",
      "Starting trail 30 ...\n",
      "Starting trail 40 ...\n",
      "Starting trail 50 ...\n",
      "Starting trail 60 ...\n",
      "Starting trail 70 ...\n",
      "Starting trail 80 ...\n",
      "Starting trail 90 ...\n",
      "=========================\n",
      "151 errors: 65 false positive(s), 86 false negative(s)\n",
      "accuracy: 99.61 %\n",
      "||x|| = 8.0 >= ||recovered_x||? True\n",
      "||x|| = 7.0 >= ||recovered_x||? True\n",
      "||x|| = 10.0 >= ||recovered_x||? True\n",
      "||x|| = 10.0 >= ||recovered_x||? True\n",
      "||x|| = 6.0 >= ||recovered_x||? True\n",
      "||x|| = 7.0 >= ||recovered_x||? True\n",
      "||x|| = 8.0 >= ||recovered_x||? True\n",
      "||x|| = 6.0 >= ||recovered_x||? True\n",
      "||x|| = 10.0 >= ||recovered_x||? True\n",
      "||x|| = 5.0 >= ||recovered_x||? True\n",
      "||x|| = 7.0 >= ||recovered_x||? True\n",
      "||x|| = 7.0 >= ||recovered_x||? True\n",
      "||x|| = 7.0 >= ||recovered_x||? True\n",
      "||x|| = 7.0 >= ||recovered_x||? True\n",
      "||x|| = 8.0 >= ||recovered_x||? True\n",
      "||x|| = 11.0 >= ||recovered_x||? True\n",
      "||x|| = 7.0 >= ||recovered_x||? True\n",
      "||x|| = 9.0 >= ||recovered_x||? True\n"
     ]
    }
   ],
   "source": [
    "fpr, fnr, f = 0, 0, 4/384 \n",
    "file4 = '/Users/yiningliu/research/pooled-sampling/COVID-19-pooling/tests/data/x-p-4-384.csv' \n",
    "xs, recovered_xs, recovered_false_ps, recovered_false_ns = compare_truth_and_estimates(file4, fpr, fnr, f)\n",
    "check_ILP_optimality(xs, recovered_xs)"
   ]
  },
  {
   "cell_type": "code",
   "execution_count": 33,
   "metadata": {},
   "outputs": [
    {
     "data": {
      "text/plain": [
       "(0.0, 0.0)"
      ]
     },
     "execution_count": 33,
     "metadata": {},
     "output_type": "execute_result"
    }
   ],
   "source": [
    "recovered_false_ps.sum(), recovered_false_ns.sum() # should be zeros"
   ]
  },
  {
   "cell_type": "markdown",
   "metadata": {},
   "source": [
    "# Test using Random Measurement Matrix\n",
    "Randomly choose 48 nonzero entries for each row. "
   ]
  },
  {
   "cell_type": "code",
   "execution_count": 110,
   "metadata": {},
   "outputs": [],
   "source": [
    "random_membership_matrix = np.zeros(membership_matrix.shape)\n",
    "num_pools, num_samples = random_membership_matrix.shape"
   ]
  },
  {
   "cell_type": "code",
   "execution_count": 111,
   "metadata": {},
   "outputs": [],
   "source": [
    "for i in range(num_pools):\n",
    "    indices = np.random.choice(num_samples, 48, replace=False)\n",
    "    for index in indices:\n",
    "        random_membership_matrix[i, index] = 1 "
   ]
  },
  {
   "cell_type": "code",
   "execution_count": 112,
   "metadata": {},
   "outputs": [
    {
     "data": {
      "text/plain": [
       "array([ 3.,  5.,  8.,  5.,  8.,  7.,  6.,  6.,  6.,  5.,  4.,  9.,  8.,\n",
       "        4.,  8.,  6.,  9.,  4.,  4.,  5.,  3.,  9.,  4.,  9.,  1.,  4.,\n",
       "        7.,  8.,  2.,  7., 10.,  7.,  4.,  7.,  4.,  7.,  5.,  7.,  7.,\n",
       "        6.,  6.,  8.,  4.,  6.,  1.,  6.,  3.,  3.,  5.,  2.,  7.,  4.,\n",
       "        6.,  6.,  5.,  8.,  9.,  9., 10.,  7.,  5.,  5., 10.,  6.,  8.,\n",
       "        8.,  1.,  5.,  2.,  8.,  3.,  8.,  5.,  8.,  7.,  5.,  3.,  4.,\n",
       "        6.,  7.,  5.,  3., 11.,  3.,  7.,  5.,  8.,  6.,  5.,  5.,  9.,\n",
       "       16.,  6.,  6., 11.,  7.,  5.,  5.,  7.,  6.,  8.,  7.,  4.,  2.,\n",
       "        6.,  7.,  6.,  3.,  7.,  8.,  6.,  8.,  7.,  2.,  7.,  1.,  7.,\n",
       "        6.,  7.,  9.,  3.,  9.,  3.,  7.,  7.,  5.,  4.,  5.,  5.,  6.,\n",
       "        8.,  8.,  6., 10.,  5.,  8.,  7.,  4.,  4.,  8.,  6.,  4., 10.,\n",
       "        2.,  9.,  3.,  7.,  6.,  7.,  9.,  8.,  6.,  6.,  4.,  9.,  5.,\n",
       "        7.,  6.,  3.,  7.,  3.,  9.,  4.,  4.,  8.,  8.,  8.,  2., 10.,\n",
       "        9.,  5.,  8.,  5.,  7.,  5.,  5.,  7.,  7.,  8.,  6.,  7.,  2.,\n",
       "        7.,  7.,  7.,  7.,  4.,  8., 10.,  4.,  3.,  4.,  3.,  7.,  5.,\n",
       "       13.,  8.,  6.,  4.,  2.,  8.,  8., 10.,  6.,  6.,  4.,  4.,  6.,\n",
       "        8., 10.,  5.,  5.,  5.,  7.,  9.,  3.,  6.,  8.,  6.,  5.,  6.,\n",
       "        5.,  5.,  4.,  5.,  6.,  2.,  5.,  8.,  9.,  6.,  4.,  5., 10.,\n",
       "        4.,  9.,  6.,  8., 10.,  9.,  2.,  8.,  7.,  3.,  4.,  9.,  5.,\n",
       "        8.,  6.,  4.,  5.,  6.,  8.,  2.,  7.,  3.,  4.,  5.,  3., 12.,\n",
       "        8.,  6.,  7.,  7.,  5.,  6.,  4.,  3.,  3.,  6.,  5.,  5.,  3.,\n",
       "        6.,  5.,  5.,  7.,  3.,  7.,  4.,  5.,  5.,  5.,  3.,  7.,  3.,\n",
       "        8.,  6.,  6.,  3., 12.,  5., 11.,  6.,  9.,  6.,  7.,  9.,  8.,\n",
       "        3.,  7.,  2.,  3.,  4.,  6.,  5.,  3.,  4.,  8.,  6.,  5.,  8.,\n",
       "        4.,  9.,  4.,  5.,  8.,  7.,  9.,  8.,  3., 10.,  6.,  7.,  4.,\n",
       "        5.,  6.,  2.,  3.,  2.,  3.,  4.,  6.,  5.,  6., 11.,  4.,  1.,\n",
       "        4.,  9.,  7.,  4.,  8.,  5.,  5., 13.,  9.,  5.,  3.,  9.,  5.,\n",
       "        8.,  3.,  6.,  6.,  6.,  6.,  9.,  5.,  6.,  3.,  5.,  8.,  6.,\n",
       "        5., 11., 11.,  9.,  7.,  4.,  4.,  5.,  5.,  7.,  7.,  6.,  5.,\n",
       "        7.,  7.,  4.,  4.,  6.,  7.,  6.])"
      ]
     },
     "execution_count": 112,
     "metadata": {},
     "output_type": "execute_result"
    }
   ],
   "source": [
    "# how many times each individual is included in the test\n",
    "random_membership_matrix.sum(0)"
   ]
  },
  {
   "cell_type": "markdown",
   "metadata": {},
   "source": [
    "# Test Result for f = 1/384"
   ]
  },
  {
   "cell_type": "code",
   "execution_count": null,
   "metadata": {},
   "outputs": [
    {
     "name": "stdout",
     "output_type": "stream",
     "text": [
      "Starting trail 0 ...\n",
      "Starting trail 10 ...\n",
      "Starting trail 20 ...\n"
     ]
    }
   ],
   "source": [
    "fpr, fnr, f = 0, 0, 1/384 \n",
    "file1 = '/Users/yiningliu/research/pooled-sampling/COVID-19-pooling/tests/data/x-p-1-384.csv' \n",
    "xs, recovered_xs, recovered_false_ps, recovered_false_ns = compare_truth_and_estimates(random_membership_matrix, file_1, fpr, fnr, f)\n",
    "check_ILP_optimality(xs, recovered_xs)"
   ]
  },
  {
   "cell_type": "markdown",
   "metadata": {},
   "source": [
    "# Test Result for f = 2/384"
   ]
  },
  {
   "cell_type": "code",
   "execution_count": null,
   "metadata": {},
   "outputs": [],
   "source": [
    "fpr, fnr, f = 0, 0, 2/384 \n",
    "file2 = '/Users/yiningliu/research/pooled-sampling/COVID-19-pooling/tests/data/x-p-2-384.csv' \n",
    "xs, recovered_xs, recovered_false_ps, recovered_false_ns = compare_truth_and_estimates(random_membership_matrix, file2, fpr, fnr, f)\n",
    "check_ILP_optimality(xs, recovered_xs)"
   ]
  },
  {
   "cell_type": "markdown",
   "metadata": {},
   "source": [
    "# Test Result for f = 3/384"
   ]
  },
  {
   "cell_type": "code",
   "execution_count": null,
   "metadata": {},
   "outputs": [],
   "source": [
    "fpr, fnr, f = 0, 0, 3/384 \n",
    "file3 = '/Users/yiningliu/research/pooled-sampling/COVID-19-pooling/tests/data/x-p-3-384.csv' \n",
    "xs, recovered_xs, recovered_false_ps, recovered_false_ns = compare_truth_and_estimates(random_membership_matrix, file3, fpr, fnr, f)\n",
    "check_ILP_optimality(xs, recovered_xs)"
   ]
  },
  {
   "cell_type": "markdown",
   "metadata": {},
   "source": [
    "# Test Result for f = 4/384"
   ]
  },
  {
   "cell_type": "code",
   "execution_count": null,
   "metadata": {},
   "outputs": [],
   "source": [
    "fpr, fnr, f = 0, 0, 4/384 \n",
    "file4 = '/Users/yiningliu/research/pooled-sampling/COVID-19-pooling/tests/data/x-p-4-384.csv' \n",
    "xs, recovered_xs, recovered_false_ps, recovered_false_ns = compare_truth_and_estimates(random_membership_matrix, file4, fpr, fnr, f)\n",
    "check_ILP_optimality(xs, recovered_xs)"
   ]
  },
  {
   "cell_type": "code",
   "execution_count": null,
   "metadata": {},
   "outputs": [],
   "source": []
  }
 ],
 "metadata": {
  "kernelspec": {
   "display_name": "Python 3",
   "language": "python",
   "name": "python3"
  },
  "language_info": {
   "codemirror_mode": {
    "name": "ipython",
    "version": 3
   },
   "file_extension": ".py",
   "mimetype": "text/x-python",
   "name": "python",
   "nbconvert_exporter": "python",
   "pygments_lexer": "ipython3",
   "version": "3.8.3"
  }
 },
 "nbformat": 4,
 "nbformat_minor": 4
}
